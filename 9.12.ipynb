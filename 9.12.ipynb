{
 "cells": [
  {
   "cell_type": "markdown",
   "metadata": {},
   "source": [
    "# 选择\n",
    "## 布尔类型、数值和表达式\n",
    "![](../Python/Photo/33.png)\n",
    "- 注意：比较运算符的相等是两个等到，一个等到代表赋值\n",
    "- 在Python中可以用整型0来代表False，其他数字来代表True\n",
    "- 后面还会讲到 is 在判断语句中的用发"
   ]
  },
  {
   "cell_type": "markdown",
   "metadata": {},
   "source": [
    "## 字符串的比较使用ASCII值"
   ]
  },
  {
   "cell_type": "code",
   "execution_count": 1,
   "metadata": {},
   "outputs": [
    {
     "data": {
      "text/plain": [
       "True"
      ]
     },
     "execution_count": 1,
     "metadata": {},
     "output_type": "execute_result"
    }
   ],
   "source": [
    "0<10<100"
   ]
  },
  {
   "cell_type": "code",
   "execution_count": 5,
   "metadata": {},
   "outputs": [
    {
     "name": "stdout",
     "output_type": "stream",
     "text": [
      "输入一个1~100的数：23\n",
      "C\n"
     ]
    }
   ],
   "source": [
    "num = int(input('输入一个1~100的数：'))\n",
    "if num>=90:\n",
    "    print('A')\n",
    "elif 80<=num<90:\n",
    "    print('B')\n",
    "else :\n",
    "    print('C')"
   ]
  },
  {
   "cell_type": "markdown",
   "metadata": {},
   "source": [
    "## Markdown \n",
    "- https://github.com/younghz/Markdown"
   ]
  },
  {
   "cell_type": "markdown",
   "metadata": {},
   "source": [
    "## EP:\n",
    "- <img src=\"../Python/Photo/34.png\"></img>\n",
    "- 输入一个数字，判断其实奇数还是偶数"
   ]
  },
  {
   "cell_type": "markdown",
   "metadata": {},
   "source": [
    "## 产生随机数字\n",
    "- 函数random.randint(a,b) 可以用来产生一个a和b之间且包括a和b的随机整数"
   ]
  },
  {
   "cell_type": "code",
   "execution_count": 22,
   "metadata": {},
   "outputs": [
    {
     "name": "stdout",
     "output_type": "stream",
     "text": [
      "请输入一个整数：50\n",
      "数字太大了\n",
      "请输入一个整数：25\n",
      "数字太大了\n",
      "请输入一个整数：13\n",
      "数字太小了\n",
      "请输入一个整数：20\n",
      "数字太小了\n",
      "请输入一个整数：23\n",
      "数字太大了\n",
      "请输入一个整数：22\n",
      "数字太大了\n",
      "请输入一个整数：21\n",
      "恭喜！猜对了！！！\n"
     ]
    }
   ],
   "source": [
    "import random\n",
    "num=random.randint(1,100)\n",
    "while num!=number:\n",
    "    number = int(input('请输入一个整数：'))\n",
    "\n",
    "    if number>num:\n",
    "        print('数字太大了')\n",
    "    elif number<num:\n",
    "        print('数字太小了')\n",
    "    else:\n",
    "        print('恭喜！猜对了！！！')"
   ]
  },
  {
   "cell_type": "markdown",
   "metadata": {},
   "source": [
    "##  其他random方法\n",
    "- random.random 返回0.0到1.0之间前闭后开区间的随机浮点\n",
    "- random.randrange(a,b) 前闭后开"
   ]
  },
  {
   "cell_type": "markdown",
   "metadata": {},
   "source": [
    "## EP：\n",
    "- 产生两个随机整数number1和number2，然后显示给用户，使用户输入数字的和，并判定其是否正确\n",
    "- 进阶:写一个随机序号点名程序"
   ]
  },
  {
   "cell_type": "code",
   "execution_count": 25,
   "metadata": {},
   "outputs": [
    {
     "name": "stdout",
     "output_type": "stream",
     "text": [
      "请输入一个整数：1\n",
      "数字太小了\n",
      "请输入一个整数：2\n",
      "数字太小了\n",
      "请输入一个整数：3\n",
      "数字太小了\n",
      "请输入一个整数：4\n",
      "数字太小了\n",
      "请输入一个整数：5\n",
      "数字太小了\n",
      "请输入一个整数：6\n",
      "数字太小了\n",
      "请输入一个整数：7\n",
      "数字太小了\n",
      "请输入一个整数：8\n",
      "恭喜！猜对了！！！\n"
     ]
    }
   ],
   "source": [
    "import random\n",
    "num1=random.randint(1,5)\n",
    "num2=random.randint(1,5)\n",
    "num3=num1+num2\n",
    "while num3!=number:\n",
    "    number = int(input('请输入一个整数：'))\n",
    "    if number>num3:\n",
    "        print('数字太大了')\n",
    "    elif number<num3:\n",
    "        print('数字太小了')\n",
    "    else:\n",
    "        print('恭喜！猜对了！！！')"
   ]
  },
  {
   "cell_type": "code",
   "execution_count": 36,
   "metadata": {},
   "outputs": [
    {
     "name": "stdout",
     "output_type": "stream",
     "text": [
      "请输入会员等级（0-3）：3\n",
      "请输入一个(1~2)整数：1\n",
      "数字太小了\n",
      "请输入一个(1~2)整数：2\n",
      "恭喜！猜对了！！！\n"
     ]
    }
   ],
   "source": [
    "import random\n",
    "vip = int(input('请输入会员等级（0-3）：'))\n",
    "if vip==0:\n",
    "    num=random.randint(1,5)\n",
    "    while num!=number:\n",
    "        number = int(input('请输入一个(1~5)整数：'))\n",
    "        if number>num:\n",
    "            print('数字太大了')\n",
    "        elif number<num:\n",
    "            print('数字太小了')\n",
    "        else:\n",
    "            print('恭喜！猜对了！！！')\n",
    "elif vip==1:\n",
    "    num=random.randint(1,4)\n",
    "    while num!=number:\n",
    "        number = int(input('请输入一个(1~4)整数：'))\n",
    "        if number>num:\n",
    "            print('数字太大了')\n",
    "        elif number<num:\n",
    "            print('数字太小了')\n",
    "        else:\n",
    "            print('恭喜！猜对了！！！')\n",
    "elif vip==2:\n",
    "    num=random.randint(1,3)\n",
    "    while num!=number:\n",
    "        number = int(input('请输入一个(1~3)整数：'))\n",
    "        if number>num:\n",
    "            print('数字太大了')\n",
    "        elif number<num:\n",
    "            print('数字太小了')\n",
    "        else:\n",
    "            print('恭喜！猜对了！！！')\n",
    "else:\n",
    "    num=random.randint(1,2)\n",
    "    while num!=number:\n",
    "        number = int(input('请输入一个(1~2)整数：'))\n",
    "        if number>num:\n",
    "            print('数字太大了')\n",
    "        elif number<num:\n",
    "            print('数字太小了')\n",
    "        else:\n",
    "            print('恭喜！猜对了！！！')"
   ]
  },
  {
   "cell_type": "markdown",
   "metadata": {},
   "source": [
    "## if语句\n",
    "- 如果条件正确就执行一个单向if语句，亦即当条件为真的时候才执行if内部的语句\n",
    "- Python有很多选择语句:\n",
    "> - 单向if \n",
    "  - 双向if-else\n",
    "  - 嵌套if\n",
    "  - 多向if-elif-else\n",
    "  \n",
    "- 注意：当语句含有子语句的时候，那么一定至少要有一个缩进，也就是说如果有儿子存在，那么一定要缩进\n",
    "- 切记不可tab键和space混用，单用tab 或者 space\n",
    "- 当你输出的结果是无论if是否为真时都需要显示时，语句应该与if对齐"
   ]
  },
  {
   "cell_type": "code",
   "execution_count": 4,
   "metadata": {},
   "outputs": [
    {
     "name": "stdout",
     "output_type": "stream",
     "text": [
      "请输入年龄：30\n",
      "请输入长相：啥\n",
      "请输入收入：低\n",
      "不见\n"
     ]
    }
   ],
   "source": [
    "age = int(input('请输入年龄：'))\n",
    "if age <=30 :\n",
    "    see = input('请输入长相：')\n",
    "    if see!='丑':\n",
    "        money = input('请输入收入：')\n",
    "        if money!='低':\n",
    "            zhiwu = input('是否是公务员：')\n",
    "            if zhiwu=='是':\n",
    "                print('见')\n",
    "            else:\n",
    "                print('不见') \n",
    "        else:\n",
    "            print('不见')\n",
    "    else:\n",
    "        print('不见') \n",
    "else:\n",
    "    print('不见')"
   ]
  },
  {
   "cell_type": "markdown",
   "metadata": {},
   "source": [
    "## EP：\n",
    "- 用户输入一个数字，判断其实奇数还是偶数\n",
    "- 进阶：可以查看下4.5实例研究猜生日"
   ]
  },
  {
   "cell_type": "markdown",
   "metadata": {},
   "source": [
    "## 双向if-else 语句\n",
    "- 如果条件为真，那么走if内部语句，否则走else内部语句"
   ]
  },
  {
   "cell_type": "markdown",
   "metadata": {},
   "source": [
    "## EP：\n",
    "- 产生两个随机整数number1和number2，然后显示给用户，使用户输入数字，并判定其是否正确,如果正确打印“you‘re correct”，否则打印正确错误"
   ]
  },
  {
   "cell_type": "markdown",
   "metadata": {},
   "source": [
    "## 嵌套if 和多向if-elif-else\n",
    "![](../Photo/35.png)"
   ]
  },
  {
   "cell_type": "markdown",
   "metadata": {},
   "source": [
    "## EP：\n",
    "- 提示用户输入一个年份，然后显示表示这一年的动物\n",
    "![](../Python/Photo/36.png)\n",
    "- 计算身体质量指数的程序\n",
    "- BMI = 以千克为单位的体重除以以米为单位的身高\n",
    "![](../Python/Photo/37.png)"
   ]
  },
  {
   "cell_type": "code",
   "execution_count": 8,
   "metadata": {},
   "outputs": [
    {
     "name": "stdout",
     "output_type": "stream",
     "text": [
      "请输入体重（KG）：80\n",
      "请输入身高（M）：1.8\n",
      "标准\n"
     ]
    }
   ],
   "source": [
    "weigth = eval(input('请输入体重（KG）：'))\n",
    "height = eval(input('请输入身高（M）：'))\n",
    "BMI = weigth/(height*height)\n",
    "if BMI<18.5:\n",
    "    print('超轻')\n",
    "elif 18.5<=BMI<25:\n",
    "    print('标准')\n",
    "elif 25<=BMI<30:\n",
    "    print('超重')\n",
    "else:\n",
    "    print('痴肥')"
   ]
  },
  {
   "cell_type": "markdown",
   "metadata": {},
   "source": [
    "## 逻辑运算符\n",
    "![](../Photo/38.png)"
   ]
  },
  {
   "cell_type": "markdown",
   "metadata": {},
   "source": [
    "![](../Python/Photo/39.png)\n",
    "![](../Python/Photo/40.png)"
   ]
  },
  {
   "cell_type": "markdown",
   "metadata": {},
   "source": [
    "## EP：\n",
    "- 判定闰年：一个年份如果能被4整除但不能被100整除，或者能被400整除，那么这个年份就是闰年\n",
    "- 提示用户输入一个年份，并返回是否是闰年\n",
    "- 提示用户输入一个数字，判断其是否为水仙花数"
   ]
  },
  {
   "cell_type": "code",
   "execution_count": null,
   "metadata": {},
   "outputs": [],
   "source": [
    "year = int (input('请输入一个年份：'))\n",
    "if year%4==0 and year%100!=0 or year%400==0:\n",
    "    print('是闰年')\n",
    "else:\n",
    "    print('平年')\n",
    "    "
   ]
  },
  {
   "cell_type": "code",
   "execution_count": 21,
   "metadata": {},
   "outputs": [
    {
     "name": "stdout",
     "output_type": "stream",
     "text": [
      "请输入一个数字：152\n",
      "它是几位数：3\n",
      "不是水仙花书数\n"
     ]
    }
   ],
   "source": [
    "num = int (input('请输入一个数字：'))\n",
    "n = int (input('它是几位数：'))\n",
    "bai=num//100\n",
    "shi=num//10-bai*10\n",
    "ge=num%10\n",
    "if bai**n+shi**n+ge**n==num:\n",
    "    print(str(num)+'是水仙花数！！！')\n",
    "else:\n",
    "    print('不是水仙花书数')\n"
   ]
  },
  {
   "cell_type": "markdown",
   "metadata": {},
   "source": [
    "## 实例研究：彩票\n",
    "![](../Python/Photo/41.png)"
   ]
  },
  {
   "cell_type": "code",
   "execution_count": 4,
   "metadata": {},
   "outputs": [
    {
     "name": "stdout",
     "output_type": "stream",
     "text": [
      "57 61\n",
      "请输入一个(10-99)整数：61\n",
      "请输入一个(10-99)整数：34\n",
      "恭喜中奖1000美元\n"
     ]
    }
   ],
   "source": [
    "import random\n",
    "num1=random.randint(10,99)\n",
    "num2=random.randint(10,99)\n",
    "print(num1,num2)\n",
    "number1 = int(input('请输入一个(10-99)整数：'))\n",
    "number2 = int(input('请输入一个(10-99)整数：'))\n",
    "\n",
    "if num1==number1:\n",
    "    if num2==number2:\n",
    "        print('恭喜中奖10000美元')\n",
    "    else:\n",
    "        print('恭喜中奖1000美元')\n",
    "elif num2==number2:\n",
    "    print('恭喜中奖1000美元')\n",
    "elif num1==number2:\n",
    "    if num2==number1:\n",
    "        print('恭喜中奖3000美元')\n",
    "    else :\n",
    "        print('恭喜中奖1000美元')\n",
    "elif num2==number1:\n",
    "    print('恭喜中奖1000美元')\n",
    "else:\n",
    "    print('没中奖')"
   ]
  },
  {
   "cell_type": "markdown",
   "metadata": {},
   "source": [
    "# Homework\n",
    "- 1\n",
    "![](../Python/Photo/42.png)"
   ]
  },
  {
   "cell_type": "code",
   "execution_count": 2,
   "metadata": {},
   "outputs": [
    {
     "name": "stdout",
     "output_type": "stream",
     "text": [
      "请依次输入a,b,c三个数：1,3,1\n",
      "the equation has -0.3819660112501051 and -2.618033988749895\n"
     ]
    }
   ],
   "source": [
    "import math\n",
    "a,b,c = eval(input('请依次输入a,b,c三个数：'))\n",
    "if b*b-4*a*c>0:\n",
    "    r1 = (-b+math.sqrt(b*b-4*a*c))/(2*a)\n",
    "    r2 = (-b-math.sqrt(b*b-4*a*c))/(2*a)\n",
    "    print('the equation has '+str(r1)+' and '+str(r2))\n",
    "elif b*b-4*a*c==0:\n",
    "    x= (-b-math.sqrt(b*b-4*a*c))/(2*a)\n",
    "    print('the equation has '+str(x))\n",
    "else:\n",
    "    print('the equation has no real rools')"
   ]
  },
  {
   "cell_type": "markdown",
   "metadata": {},
   "source": [
    "- 2\n",
    "![](../Python/Photo/43.png)"
   ]
  },
  {
   "cell_type": "code",
   "execution_count": 11,
   "metadata": {},
   "outputs": [
    {
     "name": "stdout",
     "output_type": "stream",
     "text": [
      "请输入33+24的和：\n",
      ">>57\n",
      "正确\n"
     ]
    }
   ],
   "source": [
    "import random\n",
    "num1=random.randint(0,99)\n",
    "num2=random.randint(0,99)\n",
    "num=num1+num2\n",
    "print('请输入'+str(num1)+'+'+str(num2)+'的和：')\n",
    "number = int(input('>>'))\n",
    "if number==num:\n",
    "    print('正确')\n",
    "else:\n",
    "    print('错误')"
   ]
  },
  {
   "cell_type": "markdown",
   "metadata": {},
   "source": [
    "- 3\n",
    "![](../Python/Photo/44.png)"
   ]
  },
  {
   "cell_type": "code",
   "execution_count": 18,
   "metadata": {},
   "outputs": [
    {
     "name": "stdout",
     "output_type": "stream",
     "text": [
      "请输入今天是周几（周日是0）：0\n",
      "请输入天数）：31\n",
      "今天是周日,31天后是周三\n"
     ]
    }
   ],
   "source": [
    "day = int(input('请输入今天是周几（周日是0）：'))\n",
    "num = int(input('请输入天数）：'))\n",
    "if (day+num)%7==0:\n",
    "    if day==0:\n",
    "        day='日'\n",
    "        print('今天是周'+str(day)+','+str(num)+'天后是周日')\n",
    "elif (day+num)%7==1:\n",
    "    if day==0:\n",
    "        day='日'\n",
    "        print('今天是周'+str(day)+','+str(num)+'天后是周一')\n",
    "elif (day+num)%7==2:\n",
    "    if day==0:\n",
    "        day='日'\n",
    "        print('今天是周'+str(day)+','+str(num)+'天后是周二')\n",
    "elif (day+num)%7==3:\n",
    "    if day==0:\n",
    "        day='日'\n",
    "        print('今天是周'+str(day)+','+str(num)+'天后是周三')\n",
    "elif (day+num)%7==4:\n",
    "    if day==0:\n",
    "        day='日'\n",
    "        print('今天是周'+str(day)+','+str(num)+'天后是周四')\n",
    "elif (day+num)%7==5:\n",
    "    if day==0:\n",
    "        day='日'\n",
    "        print('今天是周'+str(day)+','+str(num)+'天后是周五')\n",
    "else:\n",
    "    if day==0:\n",
    "        day='日'\n",
    "        print('今天是周'+str(day)+','+str(num)+'天后是周六')"
   ]
  },
  {
   "cell_type": "markdown",
   "metadata": {},
   "source": [
    "- 4\n",
    "![](../Python/Photo/45.png)"
   ]
  },
  {
   "cell_type": "code",
   "execution_count": 19,
   "metadata": {},
   "outputs": [
    {
     "name": "stdout",
     "output_type": "stream",
     "text": [
      "请依次输入a,b,c三个整数：3,6,4\n",
      "3 4 6\n"
     ]
    }
   ],
   "source": [
    "a,b,c = eval(input('请依次输入a,b,c三个整数：'))\n",
    "if a>b:\n",
    "    temp=a\n",
    "    a=b\n",
    "    b=temp\n",
    "if b>c:\n",
    "    temp=b\n",
    "    b=c\n",
    "    c=temp\n",
    "if a>b :\n",
    "    temp=a\n",
    "    a=b\n",
    "    b=temp\n",
    "print(a,b,c)\n",
    "    "
   ]
  },
  {
   "cell_type": "markdown",
   "metadata": {},
   "source": [
    "- 5\n",
    "![](../Python/Photo/46.png)"
   ]
  },
  {
   "cell_type": "code",
   "execution_count": 3,
   "metadata": {},
   "outputs": [
    {
     "name": "stdout",
     "output_type": "stream",
     "text": [
      "请输入第一种包装的重量和价格：50,24.59\n",
      "请输入第二种包装的重量和价格：25,11.99\n",
      "第二种好\n"
     ]
    }
   ],
   "source": [
    "weight1,money1 = eval(input('请输入第一种包装的重量和价格：'))\n",
    "weight2,money2 = eval(input('请输入第二种包装的重量和价格：'))\n",
    "num1=money1/weight1\n",
    "num2=money2/weight2\n",
    "if num1<num2:\n",
    "    print('第一种好')\n",
    "elif num2<num1:\n",
    "    print('第二种好')\n",
    "else:\n",
    "    print('一样好')"
   ]
  },
  {
   "cell_type": "markdown",
   "metadata": {},
   "source": [
    "- 6\n",
    "![](../Python/Photo/47.png)"
   ]
  },
  {
   "cell_type": "code",
   "execution_count": 3,
   "metadata": {},
   "outputs": [
    {
     "name": "stdout",
     "output_type": "stream",
     "text": [
      "请输入月份）：2\n",
      "请输入年份）：2000\n",
      "2000年2月有29天\n"
     ]
    }
   ],
   "source": [
    "month = int(input('请输入月份）：'))\n",
    "year = int(input('请输入年份）：'))\n",
    "\n",
    "if month==1 or month==3 or month==5 or month==7 or month==8 or month==10 or month==12:\n",
    "    print(str(year)+'年'+str(month)+'月有31天')\n",
    "elif month==4 or month==6 or month==9 or month==11:\n",
    "    print(str(year)+'年'+str(month)+'月有30天')\n",
    "elif year%4==0 and year%100!=0 or year%400==0:\n",
    "    print(str(year)+'年'+str(month)+'月有29天')\n",
    "else:\n",
    "    print(str(year)+'年'+str(month)+'月有28天')\n"
   ]
  },
  {
   "cell_type": "markdown",
   "metadata": {},
   "source": [
    "- 7\n",
    "![](../Python/Photo/48.png)"
   ]
  },
  {
   "cell_type": "code",
   "execution_count": 13,
   "metadata": {},
   "outputs": [
    {
     "name": "stdout",
     "output_type": "stream",
     "text": [
      "0是正面，1是反面；请猜测：0\n",
      "恭喜猜对了！硬币是：正面\n"
     ]
    }
   ],
   "source": [
    "import random\n",
    "num1=random.randint(0,1)\n",
    "com = ['正面', '反面']\n",
    "num2=int(input('0是正面，1是反面；请猜测：'))\n",
    "if num1==num2:\n",
    "    print('恭喜猜对了！硬币是：'+com[num1])\n",
    "else:\n",
    "    print('对不起猜错了！硬币是：'+com[num1])"
   ]
  },
  {
   "cell_type": "markdown",
   "metadata": {},
   "source": [
    "- 8\n",
    "![](../Python/Photo/49.png)"
   ]
  },
  {
   "cell_type": "code",
   "execution_count": 12,
   "metadata": {},
   "outputs": [
    {
     "name": "stdout",
     "output_type": "stream",
     "text": [
      "0是剪子，1是石头，2是布；请出招：0\n",
      "你赢了！电脑出的是：布\n"
     ]
    }
   ],
   "source": [
    "import random\n",
    "num1=random.randint(0,2)\n",
    "com = ['剪子', '石头', '布']\n",
    "num2=int(input('0是剪子，1是石头，2是布；请出招：'))\n",
    "if num1==0 and num2==1 or num1==1 and num2==2 or num1==2 and num2==0:\n",
    "    print('你赢了！电脑出的是：'+com[num1])\n",
    "elif num1==num2:\n",
    "    print('平局！电脑出的是：'+com[num1])\n",
    "else:\n",
    "    print('你输了！电脑出的是：'+com[num1])"
   ]
  },
  {
   "cell_type": "markdown",
   "metadata": {},
   "source": [
    "- 9\n",
    "![](../Python/Photo/50.png)"
   ]
  },
  {
   "cell_type": "code",
   "execution_count": 5,
   "metadata": {},
   "outputs": [
    {
     "name": "stdout",
     "output_type": "stream",
     "text": [
      "请输入年份：2012\n",
      "请输入年月份：5\n",
      "某一天：12\n",
      "这一天是： 星期六\n"
     ]
    }
   ],
   "source": [
    "week = ['星期六','星期日','星期一','星期二','星期三','星期四','星期五']\n",
    "year = int(input('请输入年份：'))\n",
    "m = int(input('请输入年月份：'))\n",
    "q = int(input('某一天：'))\n",
    "if m==1:\n",
    "    year=year-1\n",
    "    m=13\n",
    "    j=abs(year/100)//1\n",
    "    k=year%100\n",
    "    h=(q+abs((26*(m+1))/10)//1+k+abs(k/4)//1+abs(j/4)//1+5*j)%7\n",
    "    print('这一天是： '+week[int(h)])\n",
    "elif m==2:\n",
    "    year=year-1\n",
    "    m=14\n",
    "    j=abs(year/100)//1\n",
    "    k=year%100\n",
    "    h=(q+abs((26*(m+1))/10)//1+k+abs(k/4)//1+abs(j/4)//1+5*j)%7\n",
    "    print('这一天是： '+week[int(h)])\n",
    "else:\n",
    "    j=abs(year/100)//1\n",
    "    k=year%100\n",
    "    h=(q+abs((26*(m+1))/10)//1+k+abs(k/4)//1+abs(j/4)//1+5*j)%7\n",
    "    print('这一天是： '+week[int(h)])"
   ]
  },
  {
   "cell_type": "markdown",
   "metadata": {},
   "source": [
    "- 10\n",
    "![](../Python/Photo/51.png)"
   ]
  },
  {
   "cell_type": "code",
   "execution_count": 40,
   "metadata": {},
   "outputs": [
    {
     "name": "stdout",
     "output_type": "stream",
     "text": [
      "The card you picked is 黑桃Jack\n"
     ]
    }
   ],
   "source": [
    "import random\n",
    "num1=random.randint(0,12)\n",
    "num2=random.randint(0,3)\n",
    "m1 = ['Ace', '2', '3', '4', '5', '6', '7', '8', '9', '10', 'Jack', 'Queen', 'King']\n",
    "m2 = ['梅花', '红桃', '方块', '黑桃']\n",
    "print ('这张牌是： '+m2[num2]+m1[num1])"
   ]
  },
  {
   "cell_type": "markdown",
   "metadata": {},
   "source": [
    "- 11\n",
    "![](../Python/Photo/52.png)"
   ]
  },
  {
   "cell_type": "code",
   "execution_count": 11,
   "metadata": {},
   "outputs": [
    {
     "name": "stdout",
     "output_type": "stream",
     "text": [
      "请输入一个3位数的整数：121\n",
      "121是回文数\n"
     ]
    }
   ],
   "source": [
    "num1 = int (input('请输入一个3位数的整数：'))\n",
    "if 99<num1<1000:\n",
    "    bai=num1//100\n",
    "    shi=num1//10-bai*10\n",
    "    ge=num1%10\n",
    "    if bai==ge:\n",
    "        print(str(num1)+'是回文数')\n",
    "    else:\n",
    "        print(str(num1)+'不是回文数')\n",
    "else :\n",
    "    print('数字超出范围！！！')"
   ]
  },
  {
   "cell_type": "markdown",
   "metadata": {},
   "source": [
    "- 12\n",
    "![](../Python/Photo/53.png)"
   ]
  },
  {
   "cell_type": "code",
   "execution_count": 7,
   "metadata": {},
   "outputs": [
    {
     "name": "stdout",
     "output_type": "stream",
     "text": [
      "请依次输入a,b,c三个整数：1,1,1\n",
      "这个三角形的周长是：3\n"
     ]
    }
   ],
   "source": [
    "a,b,c = eval(input('请依次输入a,b,c三个整数：'))\n",
    "if a>b:\n",
    "    temp=a\n",
    "    a=b\n",
    "    b=temp\n",
    "elif b>c:\n",
    "    temp=b\n",
    "    b=c\n",
    "    c=temp\n",
    "elif a>b :\n",
    "    temp=a\n",
    "    a=b\n",
    "    b=temp\n",
    "elif a+b>c:\n",
    "    sum=a+b+c\n",
    "    print('这个三角形的周长是：'+str(sum))\n",
    "else:\n",
    "    print('数值不合法！！！')"
   ]
  }
 ],
 "metadata": {
  "kernelspec": {
   "display_name": "Python 3",
   "language": "python",
   "name": "python3"
  },
  "language_info": {
   "codemirror_mode": {
    "name": "ipython",
    "version": 3
   },
   "file_extension": ".py",
   "mimetype": "text/x-python",
   "name": "python",
   "nbconvert_exporter": "python",
   "pygments_lexer": "ipython3",
   "version": "3.6.4"
  }
 },
 "nbformat": 4,
 "nbformat_minor": 2
}
