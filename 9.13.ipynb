{
 "cells": [
  {
   "cell_type": "markdown",
   "metadata": {},
   "source": [
    "# 循环\n",
    "- 循环是一种控制语句块重复执行的结构\n",
    "- while  适用于广度遍历\n",
    "- for    开发中经常使用"
   ]
  },
  {
   "cell_type": "markdown",
   "metadata": {},
   "source": [
    "## while 循环\n",
    "- 当一个条件保持真的时候while循环重复执行语句\n",
    "- while 循环一定要有结束条件，否则很容易进入死循环\n",
    "- while 循环的语法是：\n",
    "\n",
    "    while loop-contunuation-conndition:\n",
    "\n",
    "        Statement"
   ]
  },
  {
   "cell_type": "markdown",
   "metadata": {},
   "source": [
    "## 示例：\n",
    "sum = 0\n",
    "\n",
    "i = 1\n",
    "\n",
    "while i <10:\n",
    "\n",
    "    sum = sum + i\n",
    "    i = i + 1"
   ]
  },
  {
   "cell_type": "markdown",
   "metadata": {},
   "source": [
    "## 错误示例：\n",
    "sum = 0\n",
    "\n",
    "i = 1\n",
    "\n",
    "while i <10:\n",
    "\n",
    "    sum = sum + i\n",
    "\n",
    "i = i + 1\n",
    "- 一旦进入死循环可按 Ctrl + c 停止"
   ]
  },
  {
   "cell_type": "markdown",
   "metadata": {},
   "source": [
    "## EP：\n",
    "![](../Python/Photo/143.png)\n",
    "![](../Python/Photo/144.png)"
   ]
  },
  {
   "cell_type": "markdown",
   "metadata": {},
   "source": [
    "# 验证码\n",
    "- 随机产生四个字母的验证码，如果正确，输出验证码正确。如果错误，产生新的验证码，用户重新输入。\n",
    "- 验证码只能输入三次，如果三次都错，返回“别爬了，我们小网站没什么好爬的”\n",
    "- 密码登录，如果三次错误，账号被锁定\n"
   ]
  },
  {
   "cell_type": "code",
   "execution_count": 7,
   "metadata": {},
   "outputs": [
    {
     "name": "stdout",
     "output_type": "stream",
     "text": [
      "验证码：sg7p\n",
      "请输入验证码（如果输入3次错误，账户将被锁定）：31212\n",
      "验证失败\n",
      "验证码：szhq\n",
      "请输入验证码（如果输入3次错误，账户将被锁定）：321\n",
      "验证失败\n",
      "验证码：n8ea\n",
      "请输入验证码（如果输入3次错误，账户将被锁定）：3211\n",
      "验证失败\n",
      "账户锁死\n"
     ]
    }
   ],
   "source": [
    "import random\n",
    "i=1\n",
    "while i<=3:\n",
    "    num1=random.randint(0,35)\n",
    "    num2=random.randint(0,35)\n",
    "    num3=random.randint(0,35)\n",
    "    num4=random.randint(0,35)\n",
    "    m1 = ['a','b','c','d','e','f','g','h','i','j','k','l','m','n','o','p','q','r','s','t','u','v','w','x','y','z','0','1','2','3','4','5','6','7','8','9']\n",
    "    num=m1[num1]+m1[num2]+m1[num3]+m1[num4]\n",
    "    print('验证码：'+str(num))\n",
    "    yzm=input('请输入验证码（如果输入3次错误，账户将被锁定）：')\n",
    "    \n",
    "    if num==yzm:\n",
    "        print('验证成功')\n",
    "        break\n",
    "    else:\n",
    "        print('验证失败')\n",
    "        i+=1\n",
    "#    if i>3:\n",
    "#       print('账户锁死')\n",
    "else:\n",
    "    print('账户锁死')"
   ]
  },
  {
   "cell_type": "code",
   "execution_count": 9,
   "metadata": {},
   "outputs": [
    {
     "name": "stdout",
     "output_type": "stream",
     "text": [
      "验证码：n8ea\n",
      "请输入验证码（如果输入3次错误，账户将被锁定）：wqeqwe\n",
      "验证失败\n",
      "验证码：n8ea\n",
      "请输入验证码（如果输入3次错误，账户将被锁定）：qweqw\n",
      "验证失败\n",
      "验证码：n8ea\n",
      "请输入验证码（如果输入3次错误，账户将被锁定）：qweewq\n",
      "验证失败\n",
      "账户锁死\n"
     ]
    }
   ],
   "source": [
    "import random\n",
    "i = 0\n",
    "while i <3 :\n",
    "    yanzhengma1 = chr(random.randint(97,122))\n",
    "    yanzhengma2 = chr(random.randint(97,122))\n",
    "    yanzhengma3 = chr(random.randint(97,122))\n",
    "    yanzhengma4 = chr(random.randint(97,122))\n",
    "    yanzhengma = yanzhengma1 + yanzhengma2+ yanzhengma3 + yanzhengma4\n",
    "    \n",
    "    print('验证码：'+str(num))\n",
    "    yzm=input('请输入验证码（如果输入3次错误，账户将被锁定）：')\n",
    "    \n",
    "    if num==yzm:\n",
    "        print('验证成功')\n",
    "        break\n",
    "    else:\n",
    "        print('验证失败')\n",
    "        i+=1\n",
    "#    if i>3:\n",
    "#       print('账户锁死')\n",
    "else:\n",
    "    print('账户锁死')"
   ]
  },
  {
   "cell_type": "code",
   "execution_count": 11,
   "metadata": {},
   "outputs": [
    {
     "name": "stdout",
     "output_type": "stream",
     "text": [
      "验证码是: ihr6\n",
      "请输入验证码（如果输入3次错误，账户将被锁定）：wqe\n",
      "验证失败\n",
      "验证码是: u38j\n",
      "请输入验证码（如果输入3次错误，账户将被锁定）：eqw\n",
      "验证失败\n",
      "验证码是: vaj5\n",
      "请输入验证码（如果输入3次错误，账户将被锁定）：weq\n",
      "验证失败\n",
      "账户锁死\n"
     ]
    }
   ],
   "source": [
    "import random\n",
    "i = 0\n",
    "while i <3 :\n",
    "    list_ = ['1','2','3','4','5','6','7','8','9','0','q','w','e','r','t','y','u','i','o','p','a','s','d','f','g','h','j','k','l','z','x','c','v','n','m']\n",
    "    random.shuffle(list_)\n",
    "    yanzhengma = ''.join(list_[0:4])\n",
    "    print('验证码是:',yanzhengma)\n",
    "    input_ = input('请输入验证码（如果输入3次错误，账户将被锁定）：')\n",
    "    \n",
    "    if yanzhengma == input_:\n",
    "        print('验证成功')\n",
    "        break\n",
    "    else:\n",
    "        print('验证失败')\n",
    "        i +=1\n",
    "#     if i ==3:\n",
    "#         print('账户锁死')\n",
    "else:\n",
    "    print('账户锁死')"
   ]
  },
  {
   "cell_type": "markdown",
   "metadata": {},
   "source": [
    "## 尝试死循环"
   ]
  },
  {
   "cell_type": "markdown",
   "metadata": {},
   "source": [
    "## 实例研究：猜数字\n",
    "- 你将要编写一个能够随机生成一个0到10之间的且包括两者的数字程序，这个程序\n",
    "- 提示用户连续地输入数字直到正确，且提示用户输入的数字是过高还是过低"
   ]
  },
  {
   "cell_type": "markdown",
   "metadata": {},
   "source": [
    "## 使用哨兵值来控制循环\n",
    "- 哨兵值来表明输入的结束\n",
    "- ![](../Python/Photo/54.png)"
   ]
  },
  {
   "cell_type": "markdown",
   "metadata": {},
   "source": [
    "## 警告\n",
    "![](../Photo/55.png)"
   ]
  },
  {
   "cell_type": "markdown",
   "metadata": {},
   "source": [
    "## for 循环\n",
    "- Python的for 循环通过一个序列中的每个值来进行迭代\n",
    "- range(a,b,k)， a，b，k 必须为整数\n",
    "- a: start\n",
    "- b: end\n",
    "- k: step\n",
    "- 注意for 是循环一切可迭代对象，而不是只能使用range"
   ]
  },
  {
   "cell_type": "markdown",
   "metadata": {},
   "source": [
    "# 在Python里面一切皆对象"
   ]
  },
  {
   "cell_type": "markdown",
   "metadata": {},
   "source": [
    "## EP:\n",
    "- ![](../Python/Photo/145.png)"
   ]
  },
  {
   "cell_type": "code",
   "execution_count": 15,
   "metadata": {},
   "outputs": [
    {
     "name": "stdout",
     "output_type": "stream",
     "text": [
      "a\n",
      "b\n",
      "c\n",
      "d\n",
      "e\n",
      "f\n",
      "g\n"
     ]
    }
   ],
   "source": [
    "num='abcdefg'\n",
    "i=0\n",
    "while i<7:\n",
    "    print(num[i])\n",
    "    i+=1\n"
   ]
  },
  {
   "cell_type": "markdown",
   "metadata": {},
   "source": [
    "## 嵌套循环\n",
    "- 一个循环可以嵌套另一个循环\n",
    "- 每次循环外层时，内层循环都会被刷新重新完成循环\n",
    "- 也就是说，大循环执行一次，小循环会全部执行一次\n",
    "- 注意：\n",
    "> - 多层循环非常耗时\n",
    "  - 最多使用3层循环"
   ]
  },
  {
   "cell_type": "markdown",
   "metadata": {},
   "source": [
    "## EP：\n",
    "- 使用多层循环完成9X9乘法表\n",
    "- 显示50以内所有的素数"
   ]
  },
  {
   "cell_type": "code",
   "execution_count": 57,
   "metadata": {},
   "outputs": [
    {
     "name": "stdout",
     "output_type": "stream",
     "text": [
      "1x1=1 \n",
      "1x2=2 2x2=4 \n",
      "1x3=3 2x3=6 3x3=9 \n",
      "1x4=4 2x4=8 3x4=12 4x4=16 \n",
      "1x5=5 2x5=10 3x5=15 4x5=20 5x5=25 \n",
      "1x6=6 2x6=12 3x6=18 4x6=24 5x6=30 6x6=36 \n",
      "1x7=7 2x7=14 3x7=21 4x7=28 5x7=35 6x7=42 7x7=49 \n",
      "1x8=8 2x8=16 3x8=24 4x8=32 5x8=40 6x8=48 7x8=56 8x8=64 \n",
      "1x9=9 2x9=18 3x9=27 4x9=36 5x9=45 6x9=54 7x9=63 8x9=72 9x9=81 \n"
     ]
    }
   ],
   "source": [
    "i=1\n",
    "j=1\n",
    "for i in range(1,10):\n",
    "    for j in range(1,i+1):\n",
    "        sum=j*i\n",
    "        print('{}x{}={}'.format(j,i,i*j),end=' ')\n",
    "    print()\n",
    "       \n",
    "    "
   ]
  },
  {
   "cell_type": "code",
   "execution_count": 6,
   "metadata": {},
   "outputs": [
    {
     "name": "stdout",
     "output_type": "stream",
     "text": [
      "2\n",
      "3\n",
      "5\n",
      "7\n",
      "11\n",
      "13\n",
      "17\n",
      "19\n",
      "23\n",
      "29\n",
      "31\n",
      "37\n",
      "41\n",
      "43\n",
      "47\n"
     ]
    }
   ],
   "source": [
    "for i in range(2,51):\n",
    "    for j in range(2,i):\n",
    "        if i%j==0:\n",
    "            break\n",
    "    else:\n",
    "        print(i)"
   ]
  },
  {
   "cell_type": "markdown",
   "metadata": {},
   "source": [
    "## 关键字 break 和 continue\n",
    "- break 跳出循环，终止循环\n",
    "- continue 跳出此次循环，继续执行"
   ]
  },
  {
   "cell_type": "markdown",
   "metadata": {},
   "source": [
    "## 注意\n",
    "![](../Photo/56.png)\n",
    "![](../Photo/57.png)"
   ]
  },
  {
   "cell_type": "markdown",
   "metadata": {},
   "source": [
    "# Homework\n",
    "- 1 \n",
    "![](../Python/Photo/58.png)"
   ]
  },
  {
   "cell_type": "code",
   "execution_count": 33,
   "metadata": {},
   "outputs": [
    {
     "name": "stdout",
     "output_type": "stream",
     "text": [
      "回车继续，按0结束。请输入数字：1\n",
      "回车继续，按0结束。请输入数字：1\n",
      "回车继续，按0结束。请输入数字：1\n",
      "回车继续，按0结束。请输入数字：2\n",
      "回车继续，按0结束。请输入数字：-1\n",
      "回车继续，按0结束。请输入数字：0\n",
      "正数有：4个，负数有1个，平均数是0.8\n"
     ]
    }
   ],
   "source": [
    "n=0\n",
    "m=0\n",
    "sum_=0\n",
    "count=-1\n",
    "while True:\n",
    "    num=eval(input('回车继续，按0结束。请输入数字：'))\n",
    "    count+=1\n",
    "    sum_+=num\n",
    "    if num<0:\n",
    "        n+=1\n",
    "    elif num>0:\n",
    "        m+=1\n",
    "    else:\n",
    "        break\n",
    "print('正数有：'+str(m)+'个，负数有'+str(n)+'个，平均数是'+str(sum_/count))"
   ]
  },
  {
   "cell_type": "markdown",
   "metadata": {},
   "source": [
    "## - 2\n",
    "![](../Python/Photo/59.png)"
   ]
  },
  {
   "cell_type": "code",
   "execution_count": 9,
   "metadata": {},
   "outputs": [
    {
     "name": "stdout",
     "output_type": "stream",
     "text": [
      "十年后的学费是：16288.946267774418，十年后大学四年的总费用：73717.76425901079\n"
     ]
    }
   ],
   "source": [
    "money=10000\n",
    "i=0\n",
    "sum_=0\n",
    "while i<10:\n",
    "    money=money*(1+0.05)\n",
    "    i+=1\n",
    "money1=money\n",
    "for i in range (0,4):\n",
    "    money1=money1*(1+0.05)\n",
    "    sum_+=money1\n",
    "print('十年后的学费是：'+str(money)+'，十年后大学四年的总费用：'+str(sum_))"
   ]
  },
  {
   "cell_type": "markdown",
   "metadata": {},
   "source": [
    "- 3\n",
    "![](../Python/Photo/58.png)"
   ]
  },
  {
   "cell_type": "code",
   "execution_count": 1,
   "metadata": {},
   "outputs": [
    {
     "name": "stdout",
     "output_type": "stream",
     "text": [
      "回车继续，按0结束。请输入数字：1\n",
      "回车继续，按0结束。请输入数字：2\n",
      "回车继续，按0结束。请输入数字：3\n",
      "回车继续，按0结束。请输入数字：4\n",
      "回车继续，按0结束。请输入数字：5\n",
      "回车继续，按0结束。请输入数字：0\n",
      "正数有：5个，负数有0个，平均数是3.0\n"
     ]
    }
   ],
   "source": [
    "n=0\n",
    "m=0\n",
    "sum_=0\n",
    "count=-1\n",
    "while True:\n",
    "    num=eval(input('回车继续，按0结束。请输入数字：'))\n",
    "    count+=1\n",
    "    sum_+=num\n",
    "    if num<0:\n",
    "        n+=1\n",
    "    elif num>0:\n",
    "        m+=1\n",
    "    else:\n",
    "        break\n",
    "print('正数有：'+str(m)+'个，负数有'+str(n)+'个，平均数是'+str(sum_/count))"
   ]
  },
  {
   "cell_type": "markdown",
   "metadata": {},
   "source": [
    "- 4\n",
    "![](../Python/Photo/60.png)"
   ]
  },
  {
   "cell_type": "code",
   "execution_count": 5,
   "metadata": {},
   "outputs": [
    {
     "name": "stdout",
     "output_type": "stream",
     "text": [
      "120 150 180 210 240 270 300 330 360 390 \n",
      "420 450 480 510 540 570 600 630 660 690 \n",
      "720 750 780 810 840 870 900 930 960 990 \n"
     ]
    }
   ],
   "source": [
    "num=100\n",
    "i=0\n",
    "while num<1000:\n",
    "    if num%5==0 and num%6==0:\n",
    "        print(num,end=' ')\n",
    "        num+=1\n",
    "        i+=1\n",
    "        if i%10==0:\n",
    "            print()\n",
    "    else:\n",
    "        num+=1\n",
    "    "
   ]
  },
  {
   "cell_type": "markdown",
   "metadata": {},
   "source": [
    "- 5\n",
    "![](../Python/Photo/61.png)"
   ]
  },
  {
   "cell_type": "code",
   "execution_count": 5,
   "metadata": {},
   "outputs": [
    {
     "name": "stdout",
     "output_type": "stream",
     "text": [
      "n的立方小于12000的最大n是：22\n",
      "n的平方大于12000的最小n是：110\n"
     ]
    }
   ],
   "source": [
    "n=1\n",
    "while n**3<=12000:\n",
    "    n+=1\n",
    "print('n的立方小于12000的最大n是：'+str(n-1))\n",
    "while n**2<=12000:\n",
    "    n+=1\n",
    "print('n的平方大于12000的最小n是：'+str(n))\n",
    "\n",
    "\n",
    "    "
   ]
  },
  {
   "cell_type": "markdown",
   "metadata": {},
   "source": [
    "- 6\n",
    "![](../Python/Photo/62.png)"
   ]
  },
  {
   "cell_type": "code",
   "execution_count": 2,
   "metadata": {},
   "outputs": [
    {
     "name": "stdout",
     "output_type": "stream",
     "text": [
      "输入贷款总额：10000\n",
      "输入贷款周期（年）：5\n",
      "利率为0.050000的月还款额为212.713594，总还款额为12762.815625\n",
      "利率为0.051250的月还款额为213.982764，总还款额为12838.965860\n",
      "利率为0.052500的月还款额为215.257986，总还款额为12915.479147\n",
      "利率为0.053750的月还款额为216.539280，总还款额为12992.356781\n",
      "利率为0.055000的月还款额为217.826668，总还款额为13069.600064\n",
      "利率为0.056250的月还款额为219.120172，总还款额为13147.210297\n",
      "利率为0.057500的月还款额为220.419813，总还款额为13225.188787\n",
      "利率为0.058750的月还款额为221.725614，总还款额为13303.536843\n",
      "利率为0.060000的月还款额为223.037596，总还款额为13382.255776\n",
      "利率为0.061250的月还款额为224.355782，总还款额为13461.346902\n",
      "利率为0.062500的月还款额为225.680192，总还款额为13540.811539\n",
      "利率为0.063750的月还款额为227.010850，总还款额为13620.651008\n",
      "利率为0.065000的月还款额为228.347777，总还款额为13700.866634\n",
      "利率为0.066250的月还款额为229.690996，总还款额为13781.459745\n",
      "利率为0.067500的月还款额为231.040528，总还款额为13862.431671\n",
      "利率为0.068750的月还款额为232.396396，总还款额为13943.783746\n",
      "利率为0.070000的月还款额为233.758622，总还款额为14025.517307\n",
      "利率为0.071250的月还款额为235.127228，总还款额为14107.633694\n",
      "利率为0.072500的月还款额为236.502238，总还款额为14190.134251\n",
      "利率为0.073750的月还款额为237.883672，总还款额为14273.020324\n",
      "利率为0.075000的月还款额为239.271554，总还款额为14356.293262\n",
      "利率为0.076250的月还款额为240.665907，总还款额为14439.954418\n",
      "利率为0.077500的月还款额为242.066752，总还款额为14524.005148\n",
      "利率为0.078750的月还款额为243.474114，总还款额为14608.446810\n",
      "利率为0.080000的月还款额为244.888013，总还款额为14693.280768\n"
     ]
    }
   ],
   "source": [
    "def computeNum(rate, loanAmount, numYears):\n",
    "    totalPayment = loanAmount * ((1+rate)**numYears)\n",
    "    return totalPayment\n",
    "\n",
    "loanAmount = eval(input('输入贷款总额：'))\n",
    "numYears =  eval(input('输入贷款周期（年）：'))\n",
    "for i in range(0, 25):\n",
    "    rate = 0.05 + i*0.00125\n",
    "    totalPay = computeNum(rate, loanAmount, numYears)\n",
    "    print('利率为%f的月还款额为%f，总还款额为%f' %(rate, totalPay/60, totalPay))\n",
    "\n"
   ]
  },
  {
   "cell_type": "markdown",
   "metadata": {},
   "source": [
    "- 7\n",
    "![](../Python/Photo/63.png)"
   ]
  },
  {
   "cell_type": "code",
   "execution_count": 13,
   "metadata": {},
   "outputs": [
    {
     "name": "stdout",
     "output_type": "stream",
     "text": [
      "从右往左算的结果是：11.397003949278519\n",
      "从左往右算的结果是：11.397023948878513\n"
     ]
    }
   ],
   "source": [
    "n=50000\n",
    "sum1=0\n",
    "sum2=0\n",
    "while n>0:\n",
    "    sum1=sum1+1/n\n",
    "    n-=1\n",
    "print('从右往左算的结果是：'+str(sum1))\n",
    "n+=1\n",
    "while n<=50001:\n",
    "    sum2=sum2+1/n\n",
    "    n+=1\n",
    "print('从左往右算的结果是：'+str(sum2))"
   ]
  },
  {
   "cell_type": "markdown",
   "metadata": {},
   "source": [
    "- 8\n",
    "![](../Python/Photo/64.png)"
   ]
  },
  {
   "cell_type": "code",
   "execution_count": 14,
   "metadata": {},
   "outputs": [
    {
     "name": "stdout",
     "output_type": "stream",
     "text": [
      "45.124450303050196\n"
     ]
    }
   ],
   "source": [
    "n=1\n",
    "sum_=0\n",
    "while n<98:\n",
    "    sum_+=n/(n+2)\n",
    "    n+=2\n",
    "print(sum_)\n",
    "        "
   ]
  },
  {
   "cell_type": "markdown",
   "metadata": {},
   "source": [
    "- 9\n",
    "![](../Python/Photo/65.png)"
   ]
  },
  {
   "cell_type": "code",
   "execution_count": 2,
   "metadata": {},
   "outputs": [
    {
     "name": "stdout",
     "output_type": "stream",
     "text": [
      "3.1416926635905345\n",
      "3.1416426560898874\n",
      "3.1416259880342583\n",
      "3.1416176542148064\n",
      "3.1416126539897853\n",
      "3.1416093205342155\n",
      "3.1416069395081365\n",
      "3.1416051537460006\n",
      "3.1416037648243034\n",
      "3.1416026536897204\n"
     ]
    }
   ],
   "source": [
    "i=1\n",
    "sum_=0\n",
    "while i<=100000:\n",
    "    sum_=sum_+4*(((-1)**(i+1)/(2*i-1)))\n",
    "    i+=1\n",
    "    if i%10000==0:\n",
    "        print(sum_)\n"
   ]
  },
  {
   "cell_type": "markdown",
   "metadata": {},
   "source": [
    "- 10 \n",
    "![](../Python/Photo/66.png)"
   ]
  },
  {
   "cell_type": "code",
   "execution_count": 1,
   "metadata": {},
   "outputs": [
    {
     "name": "stdout",
     "output_type": "stream",
     "text": [
      "6\n",
      "28\n",
      "496\n",
      "8128\n"
     ]
    }
   ],
   "source": [
    "\n",
    "for i in range(1,10000):\n",
    "    s=0\n",
    "    for k in range(1,i):\n",
    "        if i%k==0:\n",
    "            s=s+k\n",
    "    if i==s:\n",
    "        print(i)"
   ]
  },
  {
   "cell_type": "markdown",
   "metadata": {},
   "source": [
    "- 11\n",
    "![](../Python/Photo/67.png)"
   ]
  },
  {
   "cell_type": "code",
   "execution_count": 4,
   "metadata": {},
   "outputs": [
    {
     "name": "stdout",
     "output_type": "stream",
     "text": [
      "21 \n",
      "31 \n",
      "41 \n",
      "51 \n",
      "61 \n",
      "71 \n",
      "32 \n",
      "42 \n",
      "52 \n",
      "62 \n",
      "72 \n",
      "43 \n",
      "53 \n",
      "63 \n",
      "73 \n",
      "54 \n",
      "64 \n",
      "74 \n",
      "65 \n",
      "75 \n",
      "76 \n",
      "总共有：21种\n"
     ]
    }
   ],
   "source": [
    "conut=0\n",
    "for i in range(1,8):\n",
    "    for j in range(): \n",
    "        if i!=j:\n",
    "            conut+=1\n",
    "            print('{}{} '.format(j,i))\n",
    "  \n",
    "print('总共有：'+str(conut)+'种')"
   ]
  },
  {
   "cell_type": "markdown",
   "metadata": {},
   "source": [
    "- 12\n",
    "![](../Python/Photo/68.png)"
   ]
  },
  {
   "cell_type": "code",
   "execution_count": 5,
   "metadata": {},
   "outputs": [
    {
     "name": "stdout",
     "output_type": "stream",
     "text": [
      "输入十个数：1\n",
      "输入十个数：1\n",
      "输入十个数：1\n",
      "输入十个数：1\n",
      "输入十个数：1\n",
      "输入十个数：1\n",
      "输入十个数：1\n",
      "输入十个数：1\n",
      "输入十个数：1\n",
      "输入十个数：1\n",
      "mean: 1.0\n",
      "var: 0.0\n"
     ]
    }
   ],
   "source": [
    "import math\n",
    "sum_ = 0\n",
    "list_ = []\n",
    "for  i in range(10):\n",
    "    shu = eval(input('输入十个数：'))\n",
    "    sum_ +=shu\n",
    "    list_.append(shu)\n",
    "mean = sum_ / 10\n",
    "\n",
    "sum_j = 0\n",
    "for j in list_:\n",
    "    sum_j += (j-mean) ** 2\n",
    "var = math.sqrt(sum_j/10)\n",
    "print('mean:',sum_ /10)\n",
    "print('var:',var)"
   ]
  },
  {
   "cell_type": "markdown",
   "metadata": {},
   "source": [
    "# "
   ]
  }
 ],
 "metadata": {
  "kernelspec": {
   "display_name": "Python 3",
   "language": "python",
   "name": "python3"
  },
  "language_info": {
   "codemirror_mode": {
    "name": "ipython",
    "version": 3
   },
   "file_extension": ".py",
   "mimetype": "text/x-python",
   "name": "python",
   "nbconvert_exporter": "python",
   "pygments_lexer": "ipython3",
   "version": "3.6.4"
  }
 },
 "nbformat": 4,
 "nbformat_minor": 2
}
