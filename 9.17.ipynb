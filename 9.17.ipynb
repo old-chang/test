{
 "cells": [
  {
   "cell_type": "markdown",
   "metadata": {},
   "source": [
    "# 对象和类\n",
    "- 一个学生，一张桌子，一个圆都是对象\n",
    "- 对象是类的一个实例，你可以创建多个对象，创建类的一个实例过程被称为实例化，\n",
    "- 在Python中对象就是实例，而实例就是对象"
   ]
  },
  {
   "cell_type": "markdown",
   "metadata": {},
   "source": [
    "## 定义类\n",
    "class ClassName:\n",
    "\n",
    "    do something\n",
    "    \n",
    "- class 类的表示与def 一样\n",
    "- 类名最好使用驼峰式\n",
    "- 在Python2中类是需要继承基类object的，在Python中默认继承，可写可不写\n",
    "- 可以将普通代码理解为皮肤，而函数可以理解为内衣，那么类可以理解为外套"
   ]
  },
  {
   "cell_type": "markdown",
   "metadata": {},
   "source": [
    "## 定义一个不含初始化__init__的简单类\n",
    "class ClassName:\n",
    "\n",
    "    joker = “Home”\n",
    "    \n",
    "    def func():\n",
    "        print('Worker')\n",
    "    \n",
    "- 尽量少使用"
   ]
  },
  {
   "cell_type": "markdown",
   "metadata": {},
   "source": [
    "## 定义一个标准类\n",
    "- __init__ 代表初始化，可以初始化任何动作\n",
    "- 此时类调用要使用()，其中（）可以理解为开始初始化\n",
    "- 初始化内的元素，类中其他的函数可以共享\n",
    "![](../Python/Photo/85.png)"
   ]
  },
  {
   "cell_type": "code",
   "execution_count": 7,
   "metadata": {},
   "outputs": [
    {
     "ename": "IndentationError",
     "evalue": "expected an indented block (<ipython-input-7-8e0e1b162652>, line 3)",
     "output_type": "error",
     "traceback": [
      "\u001b[1;36m  File \u001b[1;32m\"<ipython-input-7-8e0e1b162652>\"\u001b[1;36m, line \u001b[1;32m3\u001b[0m\n\u001b[1;33m    import pygame:\u001b[0m\n\u001b[1;37m         ^\u001b[0m\n\u001b[1;31mIndentationError\u001b[0m\u001b[1;31m:\u001b[0m expected an indented block\n"
     ]
    }
   ],
   "source": [
    "import pygame:\n",
    "class Music:\n",
    "    def play():\n",
    "    \n",
    "        pygame.mixer.init()\n",
    "        print(\"播放音乐2\")\n",
    "        track1=pygame.mixer.music.load(\"../1.mp3\")\n",
    "        pygame.mixer.music.play()\n",
    "        track1.play()"
   ]
  },
  {
   "cell_type": "code",
   "execution_count": 34,
   "metadata": {},
   "outputs": [],
   "source": [
    "class Class_name:\n",
    "    def __init__(self):\n",
    "        self.Joker = 'haha'\n",
    "    def fun1(self):\n",
    "        print(self.Joker)\n"
   ]
  },
  {
   "cell_type": "code",
   "execution_count": 35,
   "metadata": {},
   "outputs": [
    {
     "name": "stdout",
     "output_type": "stream",
     "text": [
      "haha\n"
     ]
    }
   ],
   "source": [
    "Class_name().fun1()"
   ]
  },
  {
   "cell_type": "code",
   "execution_count": 40,
   "metadata": {},
   "outputs": [],
   "source": [
    "class Math_name:\n",
    "    def __init__(self):\n",
    "        self.Joker = 2\n",
    "    def fun1(self):\n",
    "        print('平方是：',self.Joker**2)\n",
    "    def fun2(self):\n",
    "        print('立方是',self.Joker**3)\n",
    "    def fun3(self):\n",
    "        print('立方和平方的差是',self.Joker**3-self.Joker**2)"
   ]
  },
  {
   "cell_type": "code",
   "execution_count": 42,
   "metadata": {},
   "outputs": [
    {
     "name": "stdout",
     "output_type": "stream",
     "text": [
      "平方是： 4\n",
      "立方是 8\n",
      "立方和平方的差是 4\n"
     ]
    }
   ],
   "source": [
    "A=Math_name()\n",
    "A.fun1()\n",
    "A.fun2()\n",
    "A.fun3()"
   ]
  },
  {
   "cell_type": "code",
   "execution_count": 43,
   "metadata": {},
   "outputs": [],
   "source": [
    "class Joker:\n",
    "    def __init__(self):\n",
    "        self.haha = 10\n",
    "        self.lala = 10\n",
    "#         self.m = None\n",
    "#         self.n = None\n",
    "    def pow2(self):\n",
    "        m = self.haha ** 2\n",
    "        return m\n",
    "    def pow3(self):\n",
    "        n = self.lala ** 3\n",
    "        return n\n",
    "    def miuns(self):\n",
    "        m1 = self.pow2()\n",
    "        n1 = self.pow3()\n",
    "        print(n1- m1)"
   ]
  },
  {
   "cell_type": "code",
   "execution_count": 44,
   "metadata": {},
   "outputs": [
    {
     "name": "stdout",
     "output_type": "stream",
     "text": [
      "900\n"
     ]
    }
   ],
   "source": [
    "# 创建一个实例\n",
    "A = Joker()  # A就相当于初始完毕后的Joker\n",
    "A.pow2()  # !=  Joker().pow2()\n",
    "A.pow3()\n",
    "A.miuns()"
   ]
  },
  {
   "cell_type": "code",
   "execution_count": 45,
   "metadata": {},
   "outputs": [
    {
     "name": "stdout",
     "output_type": "stream",
     "text": [
      "900\n"
     ]
    }
   ],
   "source": [
    "Joker().miuns()"
   ]
  },
  {
   "cell_type": "markdown",
   "metadata": {},
   "source": [
    "- Circle 和 className_ 的第一个区别有 __init__ 这个函数\n",
    "- 。。。。   第二个区别，类中的每一个函数都有self的这个“参数”"
   ]
  },
  {
   "cell_type": "markdown",
   "metadata": {},
   "source": [
    "## 何为self？\n",
    "- self 是指向对象本身的参数\n",
    "- self 只是一个命名规则，其实可以改变的，但是我们约定俗成的是self，也便于理解\n",
    "- 使用了self就可以访问类中定义的成员\n",
    "<img src=\"../Python/Photo/86.png\"></img>"
   ]
  },
  {
   "cell_type": "markdown",
   "metadata": {},
   "source": [
    "## 使用类 Cirlcle"
   ]
  },
  {
   "cell_type": "markdown",
   "metadata": {},
   "source": [
    "## 类的传参\n",
    "- class ClassName:\n",
    "    \n",
    "        def __init__(self, para1,para2...)：\n",
    "            \n",
    "            self.para1 = para1\n",
    "            \n",
    "            self.para2 = para2"
   ]
  },
  {
   "cell_type": "markdown",
   "metadata": {},
   "source": [
    "## EP:\n",
    "- A：定义一个类，类中含有两个功能：\n",
    "    - 1、计算随机数的最大值\n",
    "    - 2、计算随机数的最小值\n",
    "- B：定义一个类，（类中函数的嵌套使用）\n",
    "    - 1、第一个函数的功能为：输入一个数字\n",
    "    - 2、第二个函数的功能为：使用第一个函数中得到的数字进行平方处理\n",
    "    - 3、第三个函数的功能为：得到平方处理后的数字 - 原来输入的数字，并打印结果"
   ]
  },
  {
   "cell_type": "code",
   "execution_count": 55,
   "metadata": {},
   "outputs": [],
   "source": [
    "import random\n",
    "class Min_num:\n",
    "    def __init__(self,num1,num2):\n",
    "        num1=random.randint(0,9)\n",
    "        num2=random.randint(0,9)\n",
    "        print(numn1,num2)\n",
    "    def min_(self,num):\n",
    "        num=min(num1,num2)\n",
    "    "
   ]
  },
  {
   "cell_type": "code",
   "execution_count": 56,
   "metadata": {},
   "outputs": [
    {
     "ename": "TypeError",
     "evalue": "__init__() missing 2 required positional arguments: 'num1' and 'num2'",
     "output_type": "error",
     "traceback": [
      "\u001b[1;31m---------------------------------------------------------------------------\u001b[0m",
      "\u001b[1;31mTypeError\u001b[0m                                 Traceback (most recent call last)",
      "\u001b[1;32m<ipython-input-56-4a5665db15c8>\u001b[0m in \u001b[0;36m<module>\u001b[1;34m()\u001b[0m\n\u001b[1;32m----> 1\u001b[1;33m \u001b[0mB\u001b[0m\u001b[1;33m=\u001b[0m\u001b[0mMin_num\u001b[0m\u001b[1;33m(\u001b[0m\u001b[1;33m)\u001b[0m\u001b[1;33m\u001b[0m\u001b[0m\n\u001b[0m\u001b[0;32m      2\u001b[0m \u001b[0mB\u001b[0m\u001b[1;33m.\u001b[0m\u001b[0mmin_\u001b[0m\u001b[1;33m(\u001b[0m\u001b[0mnum\u001b[0m\u001b[1;33m)\u001b[0m\u001b[1;33m\u001b[0m\u001b[0m\n",
      "\u001b[1;31mTypeError\u001b[0m: __init__() missing 2 required positional arguments: 'num1' and 'num2'"
     ]
    }
   ],
   "source": [
    "B=Min_num()\n",
    "B.min_(num)"
   ]
  },
  {
   "cell_type": "markdown",
   "metadata": {},
   "source": [
    "## 类的继承\n",
    "- 类的单继承\n",
    "- 类的多继承\n",
    "- 继承标识\n",
    ">  class SonClass(FatherClass):\n",
    "            \n",
    "            def __init__(self):\n",
    "            \n",
    "                FatherClass.__init__(self)"
   ]
  },
  {
   "cell_type": "code",
   "execution_count": 24,
   "metadata": {},
   "outputs": [],
   "source": [
    "class get_pow2_pow3:\n",
    "    def __init__(self,num1,num2):\n",
    "        self.num1=num1\n",
    "        self.num2=num2\n",
    "        self.res1=None\n",
    "        self.res2=None\n",
    "    def pow2_pow3(self):\n",
    "        self.res1=self.num1**2\n",
    "        self.res2=self.num2**3\n",
    "class chazhi(get_pow2_pow3):\n",
    "    def __init__(self,num1,num2):\n",
    "        get_pow2_pow3.__init__(self,num1,num2)\n",
    "    def cz(self):\n",
    "        print('差是：', self.res1- self.res2)\n",
    "\n"
   ]
  },
  {
   "cell_type": "code",
   "execution_count": 25,
   "metadata": {},
   "outputs": [
    {
     "name": "stdout",
     "output_type": "stream",
     "text": [
      "差是： 1\n"
     ]
    }
   ],
   "source": [
    "B=chazhi(3,2)\n",
    "B.pow2_pow3()\n",
    "B.cz()"
   ]
  },
  {
   "cell_type": "code",
   "execution_count": 28,
   "metadata": {},
   "outputs": [],
   "source": [
    "#多类继承\n",
    "class get_pow2:\n",
    "    def __init__(self,num1):\n",
    "        self.num1=num1\n",
    "        self.res1=None\n",
    "    def pow2(self):\n",
    "        self.res1=self.num1**2\n",
    "class get_pow3:\n",
    "    def __init__(self,num2):\n",
    "        self.num2=num2\n",
    "        self.res1=None\n",
    "    def pow3(self):\n",
    "        self.res2=self.num2**3\n",
    "class chazhi(get_pow2,get_pow3):\n",
    "    def __init__(self,num1,num2):\n",
    "        get_pow2.__init__(self,num1)\n",
    "        get_pow3.__init__(self,num2)\n",
    "    def number(self):\n",
    "        print('差是：', self.res1- self.res2)"
   ]
  },
  {
   "cell_type": "code",
   "execution_count": 30,
   "metadata": {},
   "outputs": [
    {
     "name": "stdout",
     "output_type": "stream",
     "text": [
      "差是： 1\n"
     ]
    }
   ],
   "source": [
    "B=chazhi(3,2)\n",
    "B.pow2()\n",
    "B.pow3()\n",
    "B.number()"
   ]
  },
  {
   "cell_type": "markdown",
   "metadata": {},
   "source": [
    "## 私有数据域(私有变量，或者私有函数)\n",
    "- 在Python中 变量名或者函数名使用双下划线代表私有  \\__Joker,   def \\__Joker():\n",
    "- 私有数据域不可继承\n",
    "- 私有数据域强制继承   \\__dir__()"
   ]
  },
  {
   "cell_type": "markdown",
   "metadata": {},
   "source": [
    "![](../Photo/87.png)"
   ]
  },
  {
   "cell_type": "markdown",
   "metadata": {},
   "source": [
    "## EP:\n",
    "![](../Python/Photo/88.png)\n",
    "![](../Python/Photo/89.png)\n",
    "![](../Python/Photo/90.png)\n"
   ]
  },
  {
   "cell_type": "markdown",
   "metadata": {},
   "source": [
    "## 类的其他\n",
    "- 类的封装\n",
    "    - 实际上就是将一类功能放在一起，方便未来进行管理\n",
    "- 类的继承（上面已经讲过）\n",
    "- 类的多态\n",
    "    - 包括装饰器：将放在以后处理高级类中教\n",
    "    - 装饰器的好处：当许多类中的函数需要使用同一个功能的时候，那么使用装饰器就会方便许多\n",
    "    - 装饰器是有固定的写法\n",
    "        - 其包括普通装饰器与带参装饰器"
   ]
  },
  {
   "cell_type": "markdown",
   "metadata": {},
   "source": [
    "# Homewor\n",
    "## UML类图可以不用画\n",
    "## UML 实际上就是一个思维图\n",
    "- 1\n",
    "![](../Python/Photo/91.png)"
   ]
  },
  {
   "cell_type": "code",
   "execution_count": 8,
   "metadata": {},
   "outputs": [
    {
     "name": "stdout",
     "output_type": "stream",
     "text": [
      "宽为：1高为：2\n",
      "面积为：2\n",
      "周长为：3\n"
     ]
    }
   ],
   "source": [
    "class Rectanfle:\n",
    "    def __init__(self,weight,height):\n",
    "        self.w = weight\n",
    "        self.h = height\n",
    "        self.res=None\n",
    "        self.res1=None\n",
    "        print('宽为：' + str(self.w)+'高为：' + str(self.h))\n",
    "    def getArea(self):\n",
    "        self.res = self.w * self.h\n",
    "        print('面积为：'+str(self.res))\n",
    "    def getPerimeter(self):\n",
    "        self.res1 = self.w + self.h\n",
    "        print('周长为：'+str(self.res1))\n",
    "A=Rectanfle(1,2)\n",
    "A.getArea()\n",
    "A.getPerimeter()"
   ]
  },
  {
   "cell_type": "markdown",
   "metadata": {},
   "source": [
    "- 2\n",
    "![](../Python/Photo/92.png)"
   ]
  },
  {
   "cell_type": "code",
   "execution_count": 1,
   "metadata": {},
   "outputs": [],
   "source": [
    "class Account():\n",
    "    def __init__(self, id = 0, balance = 100, annualinterestRate = 0):\n",
    "        self.__id = id\n",
    "        self.__balance = balance\n",
    "        self.__annualinterestRate = annualinterestRate\n",
    "    def getId(self):       \n",
    "        id_ = self.__id\n",
    "        return id_ \n",
    "    def getBalance(self):   \n",
    "        bl = self.__balance\n",
    "        return bl\n",
    "    def getAn(self):      \n",
    "        ann = self.__annualinterestRate\n",
    "        return ann\n",
    "    \n",
    "    def getMonthlyInterestRate(self):      \n",
    "        mir = self.__annualinterestRate / 1200\n",
    "        return mir\n",
    "    def getMonthlyInterest(self):    \n",
    "        monthlyInterestRate = self.getMonthlyInterestRate()\n",
    "        return self.__balance * monthlyInterestRate\n",
    "    \n",
    "    def withdraw(self, a):\n",
    "        self.__balance -= a\n",
    "    def deposit(self, b):\n",
    "        self.__balance += b"
   ]
  },
  {
   "cell_type": "code",
   "execution_count": 2,
   "metadata": {},
   "outputs": [
    {
     "name": "stdout",
     "output_type": "stream",
     "text": [
      "用户id为1122账户余额20500\n",
      "月利率为0.00375\n",
      "月利息为76.875\n"
     ]
    }
   ],
   "source": [
    "account = Account(1122, 20000, 4.5)\n",
    "account.withdraw(2500)\n",
    "account.deposit(3000)\n",
    "print('用户id为'+str(account.getId())+'账户余额'+str(account.getBalance()))\n",
    "print('月利率为'+str(account.getMonthlyInterestRate()))\n",
    "print('月利息为'+str(account.getMonthlyInterest()))"
   ]
  },
  {
   "cell_type": "markdown",
   "metadata": {},
   "source": [
    "- 3\n",
    "![](../Python/Photo/93.png)"
   ]
  },
  {
   "cell_type": "code",
   "execution_count": null,
   "metadata": {},
   "outputs": [],
   "source": [
    "class Fan:\n",
    "    def __init__(self, speed = 1, on = False, radius = 5, color = 'blue'):\n",
    "        self.__speed = 'SLOW'\n",
    "        if speed == 1:\n",
    "            self.__speed = 'SLOW'\n",
    "        elif speed == 2:\n",
    "            self.__speed = 'MEDIUM'\n",
    "        else:\n",
    "            self.__speed = 'FAST'\n",
    "        self.__on = on\n",
    "        self.__radius = radius \n",
    "        self.__color = color\n",
    "    def getSpeed(self):     \n",
    "        s = self.__speed\n",
    "        return s\n",
    "    def getOn(self):        \n",
    "        o = self.__on\n",
    "        return o\n",
    "    def getRadius(self):     \n",
    "        r = self.__radius\n",
    "        return r\n",
    "    def getColor(self):    \n",
    "        c=self.__color \n",
    "        return c"
   ]
  },
  {
   "cell_type": "code",
   "execution_count": null,
   "metadata": {},
   "outputs": [],
   "source": [
    "F = Fan(3, True, 10, 'yellow')\n",
    "print('速度为 ', F.getSpeed())\n",
    "print('半径为 ', F.getRadius())\n",
    "print('颜色为 ', F.getColor())\n",
    "print('开关 ', F.getOn())"
   ]
  },
  {
   "cell_type": "markdown",
   "metadata": {},
   "source": [
    "- 4\n",
    "![](../Python/Photo/94.png)\n",
    "![](../Python/Photo/95.png)"
   ]
  },
  {
   "cell_type": "markdown",
   "metadata": {},
   "source": [
    "- 5\n",
    "![](../Python/Photo/96.png)"
   ]
  },
  {
   "cell_type": "markdown",
   "metadata": {},
   "source": [
    "- 6\n",
    "![](../Python/Photo/97.png)"
   ]
  },
  {
   "cell_type": "markdown",
   "metadata": {},
   "source": [
    "- 7\n",
    "![](../Python/Photo/98.png)"
   ]
  }
 ],
 "metadata": {
  "kernelspec": {
   "display_name": "Python 3",
   "language": "python",
   "name": "python3"
  },
  "language_info": {
   "codemirror_mode": {
    "name": "ipython",
    "version": 3
   },
   "file_extension": ".py",
   "mimetype": "text/x-python",
   "name": "python",
   "nbconvert_exporter": "python",
   "pygments_lexer": "ipython3",
   "version": "3.6.4"
  }
 },
 "nbformat": 4,
 "nbformat_minor": 2
}
