{
 "cells": [
  {
   "cell_type": "markdown",
   "metadata": {},
   "source": [
    "# 函数\n",
    "\n",
    "- 函数可以用来定义可重复代码，组织和简化\n",
    "- 一般来说一个函数在实际开发中为一个小功能\n",
    "- 一个类为一个大功能\n",
    "- 同样函数的长度不要超过一屏"
   ]
  },
  {
   "cell_type": "markdown",
   "metadata": {},
   "source": [
    "## 定义一个函数\n",
    "\n",
    "def function_name(list of parameters):\n",
    "    \n",
    "    do something\n",
    "![](../Python/Photo/69.png)\n",
    "- 以前使用的random 或者range 或者print.. 其实都是函数或者类"
   ]
  },
  {
   "cell_type": "code",
   "execution_count": 3,
   "metadata": {},
   "outputs": [
    {
     "name": "stdout",
     "output_type": "stream",
     "text": [
      "函数\n"
     ]
    }
   ],
   "source": [
    "def fun_name():\n",
    "    print('函数')\n",
    "fun_name()#()表示函数调用"
   ]
  },
  {
   "cell_type": "markdown",
   "metadata": {},
   "source": [
    "## 调用一个函数\n",
    "- functionName()\n",
    "- \"()\" 就代表调用"
   ]
  },
  {
   "cell_type": "code",
   "execution_count": 7,
   "metadata": {},
   "outputs": [],
   "source": [
    "def jiou_name():\n",
    "    '''\n",
    "    这是注释，加以说明，例：这是czg写的判断奇数偶数的函数。\n",
    "    '''\n",
    "    num = int(input('请输入一个数字：'))\n",
    "    if num%2==0:\n",
    "        print('这个数是偶数')\n",
    "    else:\n",
    "        print('这个数是奇数')"
   ]
  },
  {
   "cell_type": "code",
   "execution_count": 10,
   "metadata": {},
   "outputs": [
    {
     "name": "stdout",
     "output_type": "stream",
     "text": [
      "请输入一个数字：3\n",
      "这个数是奇数\n"
     ]
    }
   ],
   "source": [
    "jiou_name()"
   ]
  },
  {
   "cell_type": "markdown",
   "metadata": {},
   "source": [
    "![](../Python/Photo/70.png)"
   ]
  },
  {
   "cell_type": "markdown",
   "metadata": {},
   "source": [
    "## 带返回值和不带返回值的函数\n",
    "- return 返回的内容\n",
    "- return 返回多个值\n",
    "- 一般情况下，在多个函数协同完成一个功能的时候，那么将会有返回值"
   ]
  },
  {
   "cell_type": "markdown",
   "metadata": {},
   "source": [
    "![](../Python/Photo/71.png)\n",
    "\n",
    "- 当然也可以自定义返回None"
   ]
  },
  {
   "cell_type": "code",
   "execution_count": 27,
   "metadata": {},
   "outputs": [],
   "source": [
    "def sushu_name():\n",
    "    '''\n",
    "    这是判断一数是不是素数的函数\n",
    "    '''\n",
    "    num = eval(input('请输入一个数字：' ))\n",
    "    for i in range(2,num): \n",
    "        if num % i == 0:\n",
    "            print('不是素数')\n",
    "            break\n",
    "    else:\n",
    "        print('素数')\n",
    "    return num"
   ]
  },
  {
   "cell_type": "code",
   "execution_count": 28,
   "metadata": {},
   "outputs": [
    {
     "name": "stdout",
     "output_type": "stream",
     "text": [
      "请输入一个数字：5\n",
      "素数\n",
      "5\n"
     ]
    }
   ],
   "source": [
    "a=sushu_name()\n",
    "print(a)"
   ]
  },
  {
   "cell_type": "markdown",
   "metadata": {},
   "source": [
    "## EP：\n",
    "![](../Python/Photo/72.png)"
   ]
  },
  {
   "cell_type": "markdown",
   "metadata": {},
   "source": [
    "## 类型和关键字参数\n",
    "- 普通参数\n",
    "- 多个参数\n",
    "- 默认值参数\n",
    "- 不定长参数"
   ]
  },
  {
   "cell_type": "code",
   "execution_count": 31,
   "metadata": {},
   "outputs": [],
   "source": [
    "import os\n",
    "def kuajiang(name):\n",
    "    os.system('say {}天才'.format(name))"
   ]
  },
  {
   "cell_type": "code",
   "execution_count": 32,
   "metadata": {},
   "outputs": [],
   "source": [
    "kuajiang('星期五')"
   ]
  },
  {
   "cell_type": "code",
   "execution_count": 33,
   "metadata": {},
   "outputs": [],
   "source": [
    "kuajiang(name = '常志国')"
   ]
  },
  {
   "cell_type": "code",
   "execution_count": 34,
   "metadata": {},
   "outputs": [],
   "source": [
    "def y(x):\n",
    "    return x**2"
   ]
  },
  {
   "cell_type": "code",
   "execution_count": 35,
   "metadata": {},
   "outputs": [
    {
     "name": "stdout",
     "output_type": "stream",
     "text": [
      "10000\n"
     ]
    }
   ],
   "source": [
    "y_ = y(100)\n",
    "print(y_)"
   ]
  },
  {
   "cell_type": "code",
   "execution_count": 41,
   "metadata": {},
   "outputs": [],
   "source": [
    "def san(num):\n",
    "    return num**3\n",
    "def liang(num):\n",
    "    return num**2\n",
    "\n",
    "def input_():\n",
    "    num = eval(input('>>'))\n",
    "    res3 = san(num)\n",
    "    res2 = liang(num)\n",
    "    print(res3-res2)\n"
   ]
  },
  {
   "cell_type": "code",
   "execution_count": 42,
   "metadata": {},
   "outputs": [
    {
     "name": "stdout",
     "output_type": "stream",
     "text": [
      ">>100\n",
      "990000\n"
     ]
    }
   ],
   "source": [
    "input_()"
   ]
  },
  {
   "cell_type": "markdown",
   "metadata": {},
   "source": [
    "## 普通参数"
   ]
  },
  {
   "cell_type": "markdown",
   "metadata": {},
   "source": [
    "## 多个参数"
   ]
  },
  {
   "cell_type": "code",
   "execution_count": null,
   "metadata": {},
   "outputs": [],
   "source": [
    "import os\n",
    "def kuajiang1(name1,name2,name3 ):\n",
    "    os.system('say {}{}{}天才'.format(name1,name2,name3))"
   ]
  },
  {
   "cell_type": "code",
   "execution_count": null,
   "metadata": {},
   "outputs": [],
   "source": [
    "kuajiang1(name1 = '常志国',name2 = '国志常',name3 = '志国常')"
   ]
  },
  {
   "cell_type": "code",
   "execution_count": null,
   "metadata": {},
   "outputs": [],
   "source": [
    "import os\n",
    "#如果参数有信心，都放在最后面。\n",
    "def kuajiang2(name1,name2,name3= '志国常'):\n",
    "    os.system('say {}{}{}天才'.format(name1,name2,name3))"
   ]
  },
  {
   "cell_type": "code",
   "execution_count": null,
   "metadata": {},
   "outputs": [],
   "source": [
    "kuajiang2(name1 = '常志国',name2 = '国志常')"
   ]
  },
  {
   "cell_type": "code",
   "execution_count": null,
   "metadata": {},
   "outputs": [],
   "source": [
    "import "
   ]
  },
  {
   "cell_type": "code",
   "execution_count": 2,
   "metadata": {},
   "outputs": [],
   "source": [
    "user = '123456@qq.com'\n",
    "passward = 'czg'\n",
    "is_ok_and_y = False"
   ]
  },
  {
   "cell_type": "code",
   "execution_count": 3,
   "metadata": {},
   "outputs": [],
   "source": [
    "def login(user_login,passward_login):\n",
    "    if user_login ==user and passward_login==passward:\n",
    "        print('成功')\n",
    "    else:\n",
    "        print('失败')\n",
    "   \n",
    "    "
   ]
  },
  {
   "cell_type": "code",
   "execution_count": 4,
   "metadata": {},
   "outputs": [],
   "source": [
    "def qitian():\n",
    "    global is_ok_and_y\n",
    "    if is_ok_and_y == False:\n",
    "        print('是否7天免登陆？y/n')\n",
    "        res = input('>>')\n",
    "        a=input('请输入账号：')\n",
    "        b=input('请输入密码：')\n",
    "        if res=='y':\n",
    "            login(user_login=a,passward_login=b)\n",
    "            is_ok_and_y = True\n",
    "        else:\n",
    "            login(user_login=a,passward_login=b)\n",
    "    else:\n",
    "        print('成功')\n",
    "    \n",
    "    \n",
    "    "
   ]
  },
  {
   "cell_type": "code",
   "execution_count": null,
   "metadata": {},
   "outputs": [
    {
     "name": "stdout",
     "output_type": "stream",
     "text": [
      "是否7天免登陆？y/n\n",
      ">>n\n"
     ]
    }
   ],
   "source": [
    "qitian()"
   ]
  },
  {
   "cell_type": "markdown",
   "metadata": {},
   "source": [
    "## 默认值参数"
   ]
  },
  {
   "cell_type": "markdown",
   "metadata": {},
   "source": [
    "## 强制命名"
   ]
  },
  {
   "cell_type": "code",
   "execution_count": null,
   "metadata": {},
   "outputs": [],
   "source": [
    "import os\n",
    "#如果参数有信心，都放在最后面。\n",
    "def kuajiang2(*,name1,name2,name3= '志国常'):#   *强制命名\n",
    "    os.system('say {}{}{}天才'.format(name1,name2,name3))"
   ]
  },
  {
   "cell_type": "code",
   "execution_count": null,
   "metadata": {},
   "outputs": [],
   "source": [
    "kuajiang2(name1 = '常志国',name2 = '国志常')"
   ]
  },
  {
   "cell_type": "markdown",
   "metadata": {},
   "source": [
    "## 不定长参数\n",
    "- \\*args\n",
    "> - 不定长，来多少装多少，不装也是可以的\n",
    "  - 返回的数据类型是元组\n",
    "  - args 名字是可以修改的，只是我们约定俗成的是args\n",
    "- \\**kwargs \n",
    "> - 返回的字典\n",
    "  - 输入的一定要是表达式（键值对）\n",
    "- name,\\*args,name2,\\**kwargs  使用参数名"
   ]
  },
  {
   "cell_type": "markdown",
   "metadata": {},
   "source": [
    "## 变量的作用域\n",
    "- 局部变量 local\n",
    "- 全局变量 global\n",
    "- globals 函数返回一个全局变量的字典，包括所有导入的变量\n",
    "- locals() 函数会以字典类型返回当前位置的全部局部变量。"
   ]
  },
  {
   "cell_type": "code",
   "execution_count": 1,
   "metadata": {},
   "outputs": [],
   "source": [
    "def  test(*args):\n",
    "    print(args)"
   ]
  },
  {
   "cell_type": "code",
   "execution_count": 2,
   "metadata": {},
   "outputs": [
    {
     "name": "stdout",
     "output_type": "stream",
     "text": [
      "(1, 2, 3, 3, 4)\n"
     ]
    }
   ],
   "source": [
    "test(1,2,3,3,4)"
   ]
  },
  {
   "cell_type": "markdown",
   "metadata": {},
   "source": [
    "## 注意：\n",
    "- global ：在进行赋值操作的时候需要声明\n",
    "- 官方解释：This is because when you make an assignment to a variable in a scope, that variable becomes local to that scope and shadows any similarly named variable in the outer scope.\n",
    "- ![](../Python/Photo/73.png)"
   ]
  },
  {
   "cell_type": "markdown",
   "metadata": {},
   "source": [
    "# Homework\n",
    "- 1\n",
    "![](../Python/Photo/74.png)"
   ]
  },
  {
   "cell_type": "code",
   "execution_count": 11,
   "metadata": {},
   "outputs": [
    {
     "name": "stdout",
     "output_type": "stream",
     "text": [
      "1.0\t5.0\t12.0\t22.0\t35.0\t51.0\t70.0\t92.0\t117.0\t145.0\t\n",
      "176.0\t210.0\t247.0\t287.0\t330.0\t376.0\t425.0\t477.0\t532.0\t590.0\t\n",
      "651.0\t715.0\t782.0\t852.0\t925.0\t1001.0\t1080.0\t1162.0\t1247.0\t1335.0\t\n",
      "1426.0\t1520.0\t1617.0\t1717.0\t1820.0\t1926.0\t2035.0\t2147.0\t2262.0\t2380.0\t\n",
      "2501.0\t2625.0\t2752.0\t2882.0\t3015.0\t3151.0\t3290.0\t3432.0\t3577.0\t3725.0\t\n",
      "3876.0\t4030.0\t4187.0\t4347.0\t4510.0\t4676.0\t4845.0\t5017.0\t5192.0\t5370.0\t\n",
      "5551.0\t5735.0\t5922.0\t6112.0\t6305.0\t6501.0\t6700.0\t6902.0\t7107.0\t7315.0\t\n",
      "7526.0\t7740.0\t7957.0\t8177.0\t8400.0\t8626.0\t8855.0\t9087.0\t9322.0\t9560.0\t\n",
      "9801.0\t10045.0\t10292.0\t10542.0\t10795.0\t11051.0\t11310.0\t11572.0\t11837.0\t12105.0\t\n",
      "12376.0\t12650.0\t12927.0\t13207.0\t13490.0\t13776.0\t14065.0\t14357.0\t14652.0\t14950.0\t\n"
     ]
    }
   ],
   "source": [
    "def getPentagonalNumber():\n",
    "    i=1\n",
    "    \n",
    "    while i<=100:\n",
    "        num=(i*(3*i-1))/2\n",
    "        print(num,end='\\t')\n",
    "        i+=1\n",
    "        if (i-1)%10==0:\n",
    "             print()\n",
    "getPentagonalNumber()"
   ]
  },
  {
   "cell_type": "markdown",
   "metadata": {},
   "source": [
    "- 2 \n",
    "![](../Python/Photo/75.png)"
   ]
  },
  {
   "cell_type": "code",
   "execution_count": 9,
   "metadata": {},
   "outputs": [
    {
     "name": "stdout",
     "output_type": "stream",
     "text": [
      "12\n"
     ]
    }
   ],
   "source": [
    "def sumDigits(num):\n",
    "   # num = eval(input('请输入一个数字：'))\n",
    "    sum_=0\n",
    "    while True:\n",
    "        number=num%10\n",
    "        sum_+=number\n",
    "        num=num//10\n",
    "        if num==0:\n",
    "            print(sum_)\n",
    "            break\n",
    "sumDigits(num=1245)"
   ]
  },
  {
   "cell_type": "markdown",
   "metadata": {},
   "source": [
    "- 3\n",
    "![](../Python/Photo/76.png)"
   ]
  },
  {
   "cell_type": "code",
   "execution_count": 10,
   "metadata": {},
   "outputs": [
    {
     "name": "stdout",
     "output_type": "stream",
     "text": [
      "[1, 3, 4]\n"
     ]
    }
   ],
   "source": [
    "def displaySortedNumbers(num1,num2,num3):\n",
    "    num = [num1,num2,num3]\n",
    "    num.sort()\n",
    "    print(num)\n",
    "displaySortedNumbers(num1=3,num2=4,num3=1)"
   ]
  },
  {
   "cell_type": "markdown",
   "metadata": {},
   "source": [
    "- 4\n",
    "![](../Python/Photo/77.png)"
   ]
  },
  {
   "cell_type": "code",
   "execution_count": 8,
   "metadata": {},
   "outputs": [
    {
     "name": "stdout",
     "output_type": "stream",
     "text": [
      "输入本金1000\n",
      "输入年利率9\n",
      "1    1093.8068976709837\n",
      "2    1196.4135293926222\n",
      "3    1308.6453709165366\n",
      "4    1431.4053333137108\n",
      "5    1565.6810269415707\n",
      "6    1712.5527068212796\n",
      "7    1873.2019633462298\n",
      "8    2048.921228238936\n",
      "9    2241.124172232252\n",
      "10    2451.3570781248113\n",
      "11    2681.3112807075076\n",
      "12    2932.8367736408914\n",
      "13    3207.957092751521\n",
      "14    3508.8855954841697\n",
      "15    3838.0432674789427\n",
      "16    4198.078199528149\n",
      "17    4591.886891606074\n",
      "18    5022.637555363697\n",
      "19    5493.79560255814\n",
      "20    6009.151524472612\n",
      "21    6572.851386618251\n",
      "22    7189.430184049334\n",
      "23    7863.848325637133\n",
      "24    8601.531540820313\n",
      "25    9408.414529883785\n",
      "26    10290.98870893479\n",
      "27    11256.354433687085\n",
      "28    12312.278122196296\n",
      "29    13467.254736101859\n",
      "30    14730.576123040439\n"
     ]
    }
   ],
   "source": [
    "def future():\n",
    "    in_ = eval (input(\"输入本金\"))\n",
    "    ratr = eval (input(\"输入年利率\"))\n",
    "    for i in range(1,31):\n",
    "        years = i\n",
    "        future = in_ * (1 + ratr / 100/12) ** (years * 12)\n",
    "        print(str(years)+'    '+str(future))\n",
    "future()"
   ]
  },
  {
   "cell_type": "markdown",
   "metadata": {},
   "source": [
    "- 5\n",
    "![](../Python/Photo/78.png)"
   ]
  },
  {
   "cell_type": "code",
   "execution_count": 21,
   "metadata": {},
   "outputs": [
    {
     "name": "stdout",
     "output_type": "stream",
     "text": [
      "123456789:\n",
      ";<=>?@ABCD\n",
      "EFGHIJKLMN\n",
      "OPQRSTUVWX\n",
      "YZ"
     ]
    }
   ],
   "source": [
    "def printChars(ch1, ch2, numberPerLine):\n",
    "    count = 1\n",
    "    for i in range(ord(ch1), ord(ch2) + 1):\n",
    "        if count % numberPerLine == 0:\n",
    "            print(chr(i))        \n",
    "        else:\n",
    "            print(chr(i), end = \"\")    \n",
    "        count += 1\n",
    "printChars(ch1='1', ch2='Z', numberPerLine=10)\n"
   ]
  },
  {
   "cell_type": "markdown",
   "metadata": {},
   "source": [
    "- 6\n",
    "![](../Python/Photo/79.png)"
   ]
  },
  {
   "cell_type": "code",
   "execution_count": 16,
   "metadata": {},
   "outputs": [
    {
     "name": "stdout",
     "output_type": "stream",
     "text": [
      "2010年有365天\n",
      "2011年有365天\n",
      "2012年有366天\n",
      "2013年有365天\n",
      "2014年有365天\n",
      "2015年有365天\n",
      "2016年有366天\n",
      "2017年有365天\n",
      "2018年有365天\n",
      "2019年有365天\n",
      "2020年有366天\n"
     ]
    }
   ],
   "source": [
    "def numberOfDaysInAYear(year):\n",
    "    if year % 400 == 0 or (year % 4 == 0 and year % 100 != 0):\n",
    "      return 366\n",
    "    else:\n",
    "      return 365\n",
    "for year in range(2010, 2021):\n",
    "    numberOfDaysInAYear(year)\n",
    "    print(str(year) + '年有'+ str(numberOfDaysInAYear(year))+'天')\n"
   ]
  },
  {
   "cell_type": "markdown",
   "metadata": {},
   "source": [
    "- 7\n",
    "![](../Python/Photo/80.png)"
   ]
  },
  {
   "cell_type": "code",
   "execution_count": 27,
   "metadata": {},
   "outputs": [
    {
     "name": "stdout",
     "output_type": "stream",
     "text": [
      "请输入x1  :1\n",
      "请输入y1  :3\n",
      "请输入x2  :4\n",
      "请输入y2  :5\n",
      "两点的距离是：3.605551275463989\n"
     ]
    }
   ],
   "source": [
    "def distance(x1,y1,x2,y2):\n",
    "    s=((x2-x1)**2+(y2-y1)**2)**0.5\n",
    "    print('两点的距离是：'+str(s))\n",
    "distance(x1=eval(input('请输入x1  :')),y1=eval(input('请输入y1  :')),x2=eval(input('请输入x2  :')),y2=eval(input('请输入y2  :')))"
   ]
  },
  {
   "cell_type": "markdown",
   "metadata": {},
   "source": [
    "- 8\n",
    "![](../Python/Photo/81.png)"
   ]
  },
  {
   "cell_type": "code",
   "execution_count": null,
   "metadata": {},
   "outputs": [
    {
     "name": "stdout",
     "output_type": "stream",
     "text": [
      "3\n",
      "7\n",
      "31\n",
      "127\n",
      "8191\n",
      "131071\n",
      "524287\n"
     ]
    }
   ],
   "source": [
    "def meisushu():\n",
    "    for p in range(2,32): \n",
    "        num=2**(p)-1\n",
    "        p+=1\n",
    "        for i in range(2,num): \n",
    "            if num % i == 0:\n",
    "                break\n",
    "        else:\n",
    "            print(num)\n",
    "            \n",
    "\n",
    "meisushu()\n"
   ]
  },
  {
   "cell_type": "markdown",
   "metadata": {},
   "source": [
    "- 9\n",
    "![](../Python/Photo/82.png)\n",
    "![](../Python/Photo/83.png)"
   ]
  },
  {
   "cell_type": "code",
   "execution_count": 37,
   "metadata": {},
   "outputs": [
    {
     "name": "stdout",
     "output_type": "stream",
     "text": [
      "当前时间是：Sun Sep 16 2018 21:01:44\n"
     ]
    }
   ],
   "source": [
    "import time\n",
    "\n",
    "print('当前时间是：'+time.strftime(\"%a %b %d %Y %H:%M:%S\", time.localtime()))\n",
    "  \n",
    "\n"
   ]
  },
  {
   "cell_type": "markdown",
   "metadata": {},
   "source": [
    "- 10\n",
    "![](../Python/Photo/84.png)"
   ]
  },
  {
   "cell_type": "code",
   "execution_count": 38,
   "metadata": {},
   "outputs": [
    {
     "name": "stdout",
     "output_type": "stream",
     "text": [
      "和值为 1 + 5 = 6\n",
      "无效数字： 6\n",
      "你赢了\n"
     ]
    }
   ],
   "source": [
    "import random\n",
    "import sys\n",
    "\n",
    "def getDice():\n",
    "    i1 = random.randint(1, 6)\n",
    "    i2 = random.randint(1, 6)\n",
    "\n",
    "    print(\"和值为\", i1, \"+\", i2, \"=\", i1 + i2)\n",
    "    dice=i1 + i2\n",
    "    if dice == 7 or dice == 11:\n",
    "        print(\"你赢了\")\n",
    "        sys.exit()\n",
    "    elif dice == 2 or dice == 3 or dice == 12:\n",
    "        print(\"你输了\")\n",
    "        sys.exit()\n",
    "\n",
    "    point = dice\n",
    "    print(\"无效数字：\", point)\n",
    "    \n",
    "   \n",
    "    while dice != 7 and dice != point:\n",
    "        i1 = random.randint(1, 6)\n",
    "        i2 = random.randint(1, 6)\n",
    "        print(\"和值为\", i1, \"+\", i2, \"=\", i1 + i2)\n",
    "        dice=i1 + i2\n",
    "    \n",
    "    if dice == 7:\n",
    "        print(\"你输了\")\n",
    "    else:\n",
    "        print(\"你赢了\")\n",
    "\n",
    "getDice()"
   ]
  },
  {
   "cell_type": "markdown",
   "metadata": {},
   "source": [
    "- 11 \n",
    "### 去网上寻找如何用Python代码发送邮件"
   ]
  }
 ],
 "metadata": {
  "kernelspec": {
   "display_name": "Python 3",
   "language": "python",
   "name": "python3"
  },
  "language_info": {
   "codemirror_mode": {
    "name": "ipython",
    "version": 3
   },
   "file_extension": ".py",
   "mimetype": "text/x-python",
   "name": "python",
   "nbconvert_exporter": "python",
   "pygments_lexer": "ipython3",
   "version": "3.6.4"
  }
 },
 "nbformat": 4,
 "nbformat_minor": 2
}
