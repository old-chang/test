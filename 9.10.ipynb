{
 "cells": [
  {
   "cell_type": "markdown",
   "metadata": {},
   "source": [
    "# 基本程序设计\n",
    "- 一切代码输入，请使用英文输入法"
   ]
  },
  {
   "cell_type": "code",
   "execution_count": 3,
   "metadata": {},
   "outputs": [
    {
     "name": "stdout",
     "output_type": "stream",
     "text": [
      "314.25\n"
     ]
    }
   ],
   "source": [
    "radius = 10\n",
    "area = radius*radius*3.1425\n",
    "print(area)"
   ]
  },
  {
   "cell_type": "markdown",
   "metadata": {},
   "source": [
    "## 编写一个简单的程序\n",
    "- 圆公式面积： area = radius \\* radius \\* 3.1415"
   ]
  },
  {
   "cell_type": "code",
   "execution_count": null,
   "metadata": {},
   "outputs": [],
   "source": [
    "import os\n",
    "input_ = input('今天天气不错')\n",
    "os.system('clac')"
   ]
  },
  {
   "cell_type": "markdown",
   "metadata": {},
   "source": [
    "### 在Python里面不需要定义数据的类型"
   ]
  },
  {
   "cell_type": "markdown",
   "metadata": {},
   "source": [
    "## 控制台的读取与输入\n",
    "- input 输入进去的是字符串\n",
    "- eval"
   ]
  },
  {
   "cell_type": "code",
   "execution_count": 1,
   "metadata": {},
   "outputs": [
    {
     "name": "stdout",
     "output_type": "stream",
     "text": [
      "请输入一个边长：4\n",
      "16\n"
     ]
    }
   ],
   "source": [
    "bianchang=int(input('请输入一个边长：'))\n",
    "area = bianchang*bianchang\n",
    "print(area)"
   ]
  },
  {
   "cell_type": "markdown",
   "metadata": {},
   "source": [
    "- 在jupyter用shift + tab 键可以跳出解释文档"
   ]
  },
  {
   "cell_type": "markdown",
   "metadata": {},
   "source": [
    "## 变量命名的规范\n",
    "- 由字母、数字、下划线构成\n",
    "- 不能以数字开头 \\*\n",
    "- 标识符不能是关键词(实际上是可以强制改变的，但是对于代码规范而言是极其不适合)\n",
    "- 可以是任意长度\n",
    "- 驼峰式命名"
   ]
  },
  {
   "cell_type": "markdown",
   "metadata": {},
   "source": [
    "## 变量、赋值语句和赋值表达式\n",
    "- 变量: 通俗理解为可以变化的量\n",
    "- x = 2 \\* x + 1 在数学中是一个方程，而在语言中它是一个表达式\n",
    "- test = test + 1 \\* 变量在赋值之前必须有值"
   ]
  },
  {
   "cell_type": "markdown",
   "metadata": {},
   "source": [
    "## 同时赋值\n",
    "var1, var2,var3... = exp1,exp2,exp3..."
   ]
  },
  {
   "cell_type": "markdown",
   "metadata": {},
   "source": [
    "## 定义常量\n",
    "- 常量：表示一种定值标识符，适合于多次使用的场景。比如PI\n",
    "- 注意：在其他低级语言中如果定义了常量，那么，该常量是不可以被改变的，但是在Python中一切皆对象，常量也是可以被改变的"
   ]
  },
  {
   "cell_type": "markdown",
   "metadata": {},
   "source": [
    "## 数值数据类型和运算符\n",
    "- 在Python中有两种数值类型（int 和 float）适用于加减乘除、模、幂次\n",
    "<img src = \"../Python/Photo/01.jpg\"></img>"
   ]
  },
  {
   "cell_type": "markdown",
   "metadata": {},
   "source": [
    "## 运算符 /、//、**"
   ]
  },
  {
   "cell_type": "markdown",
   "metadata": {},
   "source": [
    "## 运算符 %"
   ]
  },
  {
   "cell_type": "markdown",
   "metadata": {},
   "source": [
    "## EP：\n",
    "- 25/4 多少，如果要将其转变为整数该怎么改写\n",
    "- 输入一个数字判断是奇数还是偶数\n",
    "- 进阶: 输入一个秒数，写一个程序将其转换成分和秒：例如500秒等于8分20秒\n",
    "- 进阶: 如果今天是星期六，那么10天以后是星期几？ 提示：每个星期的第0天是星期天"
   ]
  },
  {
   "cell_type": "code",
   "execution_count": 3,
   "metadata": {},
   "outputs": [
    {
     "data": {
      "text/plain": [
       "6.25"
      ]
     },
     "execution_count": 3,
     "metadata": {},
     "output_type": "execute_result"
    }
   ],
   "source": [
    "25/4"
   ]
  },
  {
   "cell_type": "code",
   "execution_count": 11,
   "metadata": {},
   "outputs": [
    {
     "name": "stdout",
     "output_type": "stream",
     "text": [
      "输入一个数：3\n",
      "3是奇数\n"
     ]
    }
   ],
   "source": [
    "num=eval(input('输入一个数：'))\n",
    "if num%2==0: \n",
    " print(str(num) + '是偶数')\n",
    "else :  \n",
    " print(str(num) + '是奇数')"
   ]
  },
  {
   "cell_type": "code",
   "execution_count": 4,
   "metadata": {},
   "outputs": [
    {
     "name": "stdout",
     "output_type": "stream",
     "text": [
      "输入一个秒数：3000\n",
      "50分0秒\n"
     ]
    }
   ],
   "source": [
    "seconds = eval(input('输入一个秒数：'))\n",
    "min1=seconds//60\n",
    "seconds_=seconds%60\n",
    "print(str(min1) + '分'+ str(seconds_)+ '秒')"
   ]
  },
  {
   "cell_type": "code",
   "execution_count": 12,
   "metadata": {},
   "outputs": [
    {
     "name": "stdout",
     "output_type": "stream",
     "text": [
      "今天是：6\n",
      "在10天后是星期2\n"
     ]
    }
   ],
   "source": [
    "weekend = eval(input('今天是星期：'))\n",
    "num=(weekend + 10) % 7\n",
    "print('在10天后是星期'+str(num))"
   ]
  },
  {
   "cell_type": "code",
   "execution_count": 10,
   "metadata": {},
   "outputs": [
    {
     "name": "stdout",
     "output_type": "stream",
     "text": [
      "38.699999999999996\n"
     ]
    }
   ],
   "source": [
    "x,y,a,b,c=10,6,0,1,1\n",
    "sum1=(3+4*x)/5\n",
    "sum2=(10*(y-5)*(a+b+c))/x\n",
    "sum3=9*(4/x+(9+x)/y)\n",
    "sum_=sum1-sum2+sum3\n",
    "print(sum_)"
   ]
  },
  {
   "cell_type": "markdown",
   "metadata": {},
   "source": [
    "## 科学计数法\n",
    "- 1.234e+2\n",
    "- 1.234e-2"
   ]
  },
  {
   "cell_type": "markdown",
   "metadata": {},
   "source": [
    "## 计算表达式和运算优先级\n",
    "<img src = \"../Python/Photo/02.png\"></img>\n",
    "<img src = \"../Python/Photo/03.png\"></img>"
   ]
  },
  {
   "cell_type": "markdown",
   "metadata": {},
   "source": [
    "## 增强型赋值运算\n",
    "<img src = \"../Python/Photo/04.png\"></img>"
   ]
  },
  {
   "cell_type": "markdown",
   "metadata": {},
   "source": [
    "## 类型转换\n",
    "- float  -> int\n",
    "- 四舍五入 round"
   ]
  },
  {
   "cell_type": "code",
   "execution_count": 16,
   "metadata": {},
   "outputs": [
    {
     "data": {
      "text/plain": [
       "11.85"
      ]
     },
     "execution_count": 16,
     "metadata": {},
     "output_type": "execute_result"
    }
   ],
   "source": [
    "round(197.55e+2 * 6e-4,2)\n"
   ]
  },
  {
   "cell_type": "markdown",
   "metadata": {},
   "source": [
    "## EP:\n",
    "- 如果一个年营业税为0.06%，那么对于197.55e+2的年收入，需要交税为多少？(结果保留2为小数)\n",
    "- 必须使用科学计数法"
   ]
  },
  {
   "cell_type": "markdown",
   "metadata": {},
   "source": [
    "# Project\n",
    "- 用Python写一个贷款计算器程序：输入的是月供(monthlyPayment) 输出的是总还款数(totalpayment)\n",
    "![](../Photo/05.png)"
   ]
  },
  {
   "cell_type": "markdown",
   "metadata": {},
   "source": [
    "# Homework\n",
    "- 1\n",
    "<img src=\"../Python/Photo/06.png\"></img>"
   ]
  },
  {
   "cell_type": "code",
   "execution_count": 17,
   "metadata": {},
   "outputs": [
    {
     "name": "stdout",
     "output_type": "stream",
     "text": [
      "请输入一个摄氏温度：32\n",
      "32摄氏度，转换为华氏温度为：89.6\n"
     ]
    }
   ],
   "source": [
    "celsius = eval(input('请输入一个摄氏温度：'))\n",
    "fahrenheit = (9/5)*celsius +32\n",
    "print(str(celsius)+'摄氏度，转换为华氏温度为：'+str(fahrenheit))"
   ]
  },
  {
   "cell_type": "markdown",
   "metadata": {},
   "source": [
    "- 2\n",
    "<img src=\"../Python/Photo/07.png\"></img>"
   ]
  },
  {
   "cell_type": "code",
   "execution_count": 20,
   "metadata": {},
   "outputs": [
    {
     "name": "stdout",
     "output_type": "stream",
     "text": [
      "请分别输入圆柱的半径和高：5,10\n",
      "圆柱的底面积为：78.5圆柱的体积为：785.0\n"
     ]
    }
   ],
   "source": [
    "radius,length = eval(input('请分别输入圆柱的半径和高：'))\n",
    "area = radius*radius*3.14\n",
    "volume=area*length\n",
    "print('圆柱的底面积为：'+str(area)+'圆柱的体积为：'+str(volume))"
   ]
  },
  {
   "cell_type": "markdown",
   "metadata": {},
   "source": [
    "- 3\n",
    "<img src=\"../Python/Photo/08.png\"></img>"
   ]
  },
  {
   "cell_type": "code",
   "execution_count": 2,
   "metadata": {},
   "outputs": [
    {
     "name": "stdout",
     "output_type": "stream",
     "text": [
      "请输入英尺长度：30\n",
      "30英尺等于9.15米\n"
     ]
    }
   ],
   "source": [
    "feet = eval(input('请输入英尺长度：'))\n",
    "meter=0.305*feet\n",
    "print(str(feet)+'英尺等于'+str(meter)+'米')"
   ]
  },
  {
   "cell_type": "markdown",
   "metadata": {},
   "source": [
    "- 4\n",
    "<img src=\"../Python/Photo/10.png\"></img>"
   ]
  },
  {
   "cell_type": "code",
   "execution_count": 3,
   "metadata": {},
   "outputs": [
    {
     "name": "stdout",
     "output_type": "stream",
     "text": [
      "请依次输入水的质量（KG）:3\n",
      "请输入水的初始温度:10\n",
      "请输入水的最终温度:100\n",
      "所需的能量(单位焦耳)是1129680\n"
     ]
    }
   ],
   "source": [
    "weight = eval(input('请依次输入水的质量（KG）:'))\n",
    "initialTemperature = eval(input('请输入水的初始温度:'))\n",
    "finalTemperature = eval(input('请输入水的最终温度:'))\n",
    "Q = weight * (finalTemperature - initialTemperature) * 4184\n",
    "print('所需的能量(单位焦耳)是'+str(Q))"
   ]
  },
  {
   "cell_type": "markdown",
   "metadata": {},
   "source": [
    "- 5\n",
    "<img src=\"../Python/Photo/11.png\"></img>"
   ]
  },
  {
   "cell_type": "code",
   "execution_count": 6,
   "metadata": {},
   "outputs": [
    {
     "name": "stdout",
     "output_type": "stream",
     "text": [
      "请依次输入差额和年利率：1000,3.5\n",
      "月供利息为：2.916666666666667\n"
     ]
    }
   ],
   "source": [
    "差额,年利率 = eval(input('请依次输入差额和年利率：'))\n",
    "利息 = 差额 * (年利率/1200)\n",
    "print('月供利息为：'+str(利息))"
   ]
  },
  {
   "cell_type": "markdown",
   "metadata": {},
   "source": [
    "- 6\n",
    "<img src=\"../Python/Photo/12.png\"></img>"
   ]
  },
  {
   "cell_type": "code",
   "execution_count": 9,
   "metadata": {},
   "outputs": [
    {
     "name": "stdout",
     "output_type": "stream",
     "text": [
      "请依次输入初速度（m/s）、末速度(m/s)和加速时间s：5.5,50.9,4.5\n",
      "加速度为(m/s)：10.088888888888889\n"
     ]
    }
   ],
   "source": [
    "v0,v1,t = eval(input('请依次输入初速度（m/s）、末速度(m/s)和加速时间s：'))\n",
    "a = (v1-v0)/t \n",
    "print('加速度为(m/s)：'+str(a))\n"
   ]
  },
  {
   "cell_type": "markdown",
   "metadata": {},
   "source": [
    "- 7 进阶\n",
    "<img src=\"../Python/Photo/13.png\"></img>"
   ]
  },
  {
   "cell_type": "code",
   "execution_count": 53,
   "metadata": {},
   "outputs": [
    {
     "name": "stdout",
     "output_type": "stream",
     "text": [
      "请输入每月存入金额（单位元）：100\n",
      "6月后存款为：608.811017705596\n"
     ]
    }
   ],
   "source": [
    "存款 = eval(input('请输入每月存入金额（单位元）：'))\n",
    "i = 1\n",
    "sum_ = 0\n",
    "while i <= 6:\n",
    "    sum_=(sum_+存款)*(1+(5e-2)/12)\n",
    "    i += 1\n",
    "    \n",
    "print('6月后存款为：'+str(sum_))"
   ]
  },
  {
   "cell_type": "markdown",
   "metadata": {},
   "source": [
    "- 8 进阶\n",
    "<img src=\"../Python/Photo/14.png\"></img>"
   ]
  },
  {
   "cell_type": "code",
   "execution_count": 17,
   "metadata": {},
   "outputs": [
    {
     "name": "stdout",
     "output_type": "stream",
     "text": [
      "请输入一个0到1000的整数：999\n",
      "数字999各个位数之和为：27\n"
     ]
    }
   ],
   "source": [
    "num1 = int (input('请输入一个0到1000的整数：'))\n",
    "if 1<num1<1000:\n",
    "    bai=num1//100\n",
    "    shi=num1//10-bai*10\n",
    "    ge=num1%10\n",
    "    sum_=bai+shi+ge\n",
    "    print('数字'+str(num1)+'各个位数之和为：'+ str(sum_))\n",
    "else :\n",
    "    print('数字超出范围！！！')\n",
    "    "
   ]
  },
  {
   "cell_type": "code",
   "execution_count": null,
   "metadata": {},
   "outputs": [],
   "source": []
  }
 ],
 "metadata": {
  "kernelspec": {
   "display_name": "Python 3",
   "language": "python",
   "name": "python3"
  },
  "language_info": {
   "codemirror_mode": {
    "name": "ipython",
    "version": 3
   },
   "file_extension": ".py",
   "mimetype": "text/x-python",
   "name": "python",
   "nbconvert_exporter": "python",
   "pygments_lexer": "ipython3",
   "version": "3.6.4"
  }
 },
 "nbformat": 4,
 "nbformat_minor": 2
}
